{
 "cells": [
  {
   "cell_type": "markdown",
   "metadata": {},
   "source": [
    "# Coursera: Data Analysis Tools – Assignment 3\n",
    "Intro\n",
    "\n",
    "Variables to explore:\n",
    "* Cannabis use (transformed to quantitative, see Assignment 1)\n",
    "* Tobacco use (to be transformed)\n",
    "\n",
    "Question: is there any relationship between the amount of tobacco and cannabis use?"
   ]
  },
  {
   "cell_type": "code",
   "execution_count": 1,
   "metadata": {},
   "outputs": [],
   "source": [
    "import pandas as pd\n",
    "import numpy as np\n",
    "import seaborn\n",
    "import matplotlib.pyplot as plt\n",
    "from scipy import stats\n",
    "\n",
    "NESARC = r\"C:\\Users\\USER\\Documents\\Courses\\Coursera\\dai\\datasets\\nesarc\\nesarc_pds.csv\"\n",
    "\n",
    "# Load data\n",
    "data = pd.read_csv(NESARC, low_memory=False)"
   ]
  },
  {
   "cell_type": "markdown",
   "metadata": {},
   "source": [
    "Some variables regarding tobacco use\n",
    "```\n",
    "CHECK321 CIGARETTE SMOKING STATUS\n",
    "9913 1. Smoked cigarettes in the past 12 months\n",
    "8078 2. Smoked cigarettes prior to the last 12 months\n",
    "22 9. Unknown\n",
    "25080 BL. NA, never or unknown if ever smoked 100+ cigarettes\n",
    "\n",
    "S3AQ3B1 USUAL FREQUENCY WHEN SMOKED CIGARETTES\n",
    "14836 1. Every day\n",
    "460 2. 5 to 6 Day(s) a week\n",
    "687 3. 3 to 4 Day(s) a week\n",
    "747 4. 1 to 2 Day(s) a week\n",
    "409 5. 2 to 3 Day(s) a month\n",
    "772 6. Once a month or less\n",
    "102 9. Unknown\n",
    "25080 BL. NA, never or unknown if ever smoked 100+ cigarettes\n",
    "\n",
    "\n",
    "S3AQ3C1 USUAL QUANTITY WHEN SMOKED CIGARETTES\n",
    "17751 1-98. Cigarette(s)\n",
    "262 99. Unknown\n",
    "25080 BL. NA, never or unknown if ever smoked 100+ cigarettes```"
   ]
  }
 ],
 "metadata": {
  "kernelspec": {
   "display_name": "Python 3",
   "language": "python",
   "name": "python3"
  },
  "language_info": {
   "codemirror_mode": {
    "name": "ipython",
    "version": 3
   },
   "file_extension": ".py",
   "mimetype": "text/x-python",
   "name": "python",
   "nbconvert_exporter": "python",
   "pygments_lexer": "ipython3",
   "version": "3.6.4"
  }
 },
 "nbformat": 4,
 "nbformat_minor": 2
}
