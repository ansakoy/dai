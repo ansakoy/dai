{
 "cells": [
  {
   "cell_type": "markdown",
   "metadata": {},
   "source": [
    "# Coursera: Data Analysis Tools – Assignment 3\n",
    "This assignment required applying correlation coefficient test to explore relationship between two quantitative variables. As there were no such thing among my focus variables, I had to invent some substitute for testing.\n",
    "\n",
    "First I tried to use two variables from the same dataset:\n",
    "* Cannabis use (transformed to quantitative, see Assignment 1)\n",
    "* Tobacco use (to be transformed)\n",
    "Question was: is there any relationship between the amount of tobacco and cannabis use?  \n",
    "I tried to convert them to quantitative variables and check the association.\n",
    "\n",
    "After I failed (see below) I used another dataset (Gapminder) as a source of mock variables for this mock test."
   ]
  },
  {
   "cell_type": "code",
   "execution_count": 1,
   "metadata": {},
   "outputs": [],
   "source": [
    "import pandas as pd\n",
    "import numpy as np\n",
    "import seaborn\n",
    "import matplotlib.pyplot as plt\n",
    "from scipy import stats\n",
    "\n",
    "NESARC = r\"C:\\Users\\USER\\Documents\\Courses\\Coursera\\dai\\datasets\\nesarc\\nesarc_pds.csv\"\n",
    "\n",
    "# Load data\n",
    "data = pd.read_csv(NESARC, low_memory=False)"
   ]
  },
  {
   "cell_type": "markdown",
   "metadata": {},
   "source": [
    "Process variable on cannabis use to make it quantitative and possibly non-discrete."
   ]
  },
  {
   "cell_type": "code",
   "execution_count": 2,
   "metadata": {},
   "outputs": [
    {
     "data": {
      "text/html": [
       "<div>\n",
       "<style scoped>\n",
       "    .dataframe tbody tr th:only-of-type {\n",
       "        vertical-align: middle;\n",
       "    }\n",
       "\n",
       "    .dataframe tbody tr th {\n",
       "        vertical-align: top;\n",
       "    }\n",
       "\n",
       "    .dataframe thead th {\n",
       "        text-align: right;\n",
       "    }\n",
       "</style>\n",
       "<table border=\"1\" class=\"dataframe\">\n",
       "  <thead>\n",
       "    <tr style=\"text-align: right;\">\n",
       "      <th></th>\n",
       "      <th>Unnamed: 0</th>\n",
       "      <th>ETHRACE2A</th>\n",
       "      <th>IDNUM</th>\n",
       "      <th>PSU</th>\n",
       "      <th>STRATUM</th>\n",
       "      <th>WEIGHT</th>\n",
       "      <th>CDAY</th>\n",
       "      <th>CMON</th>\n",
       "      <th>CYEAR</th>\n",
       "      <th>REGION</th>\n",
       "      <th>...</th>\n",
       "      <th>HAL12ABDEP</th>\n",
       "      <th>HALP12ABDEP</th>\n",
       "      <th>MAR12ABDEP</th>\n",
       "      <th>MARP12ABDEP</th>\n",
       "      <th>HER12ABDEP</th>\n",
       "      <th>HERP12ABDEP</th>\n",
       "      <th>OTHB12ABDEP</th>\n",
       "      <th>OTHBP12ABDEP</th>\n",
       "      <th>NDSymptoms</th>\n",
       "      <th>CANNABIS_USE_QUANT</th>\n",
       "    </tr>\n",
       "  </thead>\n",
       "  <tbody>\n",
       "    <tr>\n",
       "      <th>count</th>\n",
       "      <td>986.000000</td>\n",
       "      <td>986.000000</td>\n",
       "      <td>986.000000</td>\n",
       "      <td>986.000000</td>\n",
       "      <td>986.000000</td>\n",
       "      <td>986.000000</td>\n",
       "      <td>986.000000</td>\n",
       "      <td>986.000000</td>\n",
       "      <td>986.000000</td>\n",
       "      <td>986.000000</td>\n",
       "      <td>...</td>\n",
       "      <td>986.000000</td>\n",
       "      <td>986.000000</td>\n",
       "      <td>986.000000</td>\n",
       "      <td>986.000000</td>\n",
       "      <td>986.000000</td>\n",
       "      <td>986.000000</td>\n",
       "      <td>986.0</td>\n",
       "      <td>986.000000</td>\n",
       "      <td>320.000000</td>\n",
       "      <td>986.000000</td>\n",
       "    </tr>\n",
       "    <tr>\n",
       "      <th>mean</th>\n",
       "      <td>22065.130832</td>\n",
       "      <td>1.864097</td>\n",
       "      <td>22066.130832</td>\n",
       "      <td>28469.777890</td>\n",
       "      <td>2843.781947</td>\n",
       "      <td>5402.113786</td>\n",
       "      <td>15.856998</td>\n",
       "      <td>8.690669</td>\n",
       "      <td>2001.121704</td>\n",
       "      <td>2.609533</td>\n",
       "      <td>...</td>\n",
       "      <td>0.043611</td>\n",
       "      <td>0.191684</td>\n",
       "      <td>0.570994</td>\n",
       "      <td>0.787018</td>\n",
       "      <td>0.008114</td>\n",
       "      <td>0.037525</td>\n",
       "      <td>0.0</td>\n",
       "      <td>0.014199</td>\n",
       "      <td>3.456250</td>\n",
       "      <td>126.361055</td>\n",
       "    </tr>\n",
       "    <tr>\n",
       "      <th>std</th>\n",
       "      <td>12271.654580</td>\n",
       "      <td>1.403328</td>\n",
       "      <td>12271.654580</td>\n",
       "      <td>15922.848422</td>\n",
       "      <td>1588.432032</td>\n",
       "      <td>3904.984385</td>\n",
       "      <td>8.841000</td>\n",
       "      <td>2.855692</td>\n",
       "      <td>0.327109</td>\n",
       "      <td>1.079890</td>\n",
       "      <td>...</td>\n",
       "      <td>0.249110</td>\n",
       "      <td>0.526237</td>\n",
       "      <td>0.883883</td>\n",
       "      <td>0.863985</td>\n",
       "      <td>0.142263</td>\n",
       "      <td>0.291350</td>\n",
       "      <td>0.0</td>\n",
       "      <td>0.168002</td>\n",
       "      <td>1.863179</td>\n",
       "      <td>148.979968</td>\n",
       "    </tr>\n",
       "    <tr>\n",
       "      <th>min</th>\n",
       "      <td>44.000000</td>\n",
       "      <td>1.000000</td>\n",
       "      <td>45.000000</td>\n",
       "      <td>1011.000000</td>\n",
       "      <td>101.000000</td>\n",
       "      <td>467.304244</td>\n",
       "      <td>1.000000</td>\n",
       "      <td>1.000000</td>\n",
       "      <td>2001.000000</td>\n",
       "      <td>1.000000</td>\n",
       "      <td>...</td>\n",
       "      <td>0.000000</td>\n",
       "      <td>0.000000</td>\n",
       "      <td>0.000000</td>\n",
       "      <td>0.000000</td>\n",
       "      <td>0.000000</td>\n",
       "      <td>0.000000</td>\n",
       "      <td>0.0</td>\n",
       "      <td>0.000000</td>\n",
       "      <td>0.000000</td>\n",
       "      <td>1.000000</td>\n",
       "    </tr>\n",
       "    <tr>\n",
       "      <th>25%</th>\n",
       "      <td>12058.250000</td>\n",
       "      <td>1.000000</td>\n",
       "      <td>12059.250000</td>\n",
       "      <td>13057.000000</td>\n",
       "      <td>1303.750000</td>\n",
       "      <td>2867.656531</td>\n",
       "      <td>8.000000</td>\n",
       "      <td>8.000000</td>\n",
       "      <td>2001.000000</td>\n",
       "      <td>2.000000</td>\n",
       "      <td>...</td>\n",
       "      <td>0.000000</td>\n",
       "      <td>0.000000</td>\n",
       "      <td>0.000000</td>\n",
       "      <td>0.000000</td>\n",
       "      <td>0.000000</td>\n",
       "      <td>0.000000</td>\n",
       "      <td>0.0</td>\n",
       "      <td>0.000000</td>\n",
       "      <td>2.000000</td>\n",
       "      <td>8.000000</td>\n",
       "    </tr>\n",
       "    <tr>\n",
       "      <th>50%</th>\n",
       "      <td>21932.000000</td>\n",
       "      <td>1.000000</td>\n",
       "      <td>21933.000000</td>\n",
       "      <td>29029.500000</td>\n",
       "      <td>2901.000000</td>\n",
       "      <td>4148.140240</td>\n",
       "      <td>16.000000</td>\n",
       "      <td>9.000000</td>\n",
       "      <td>2001.000000</td>\n",
       "      <td>3.000000</td>\n",
       "      <td>...</td>\n",
       "      <td>0.000000</td>\n",
       "      <td>0.000000</td>\n",
       "      <td>0.000000</td>\n",
       "      <td>1.000000</td>\n",
       "      <td>0.000000</td>\n",
       "      <td>0.000000</td>\n",
       "      <td>0.0</td>\n",
       "      <td>0.000000</td>\n",
       "      <td>3.000000</td>\n",
       "      <td>33.500000</td>\n",
       "    </tr>\n",
       "    <tr>\n",
       "      <th>75%</th>\n",
       "      <td>32415.750000</td>\n",
       "      <td>2.000000</td>\n",
       "      <td>32416.750000</td>\n",
       "      <td>41097.000000</td>\n",
       "      <td>4105.750000</td>\n",
       "      <td>7343.481636</td>\n",
       "      <td>24.000000</td>\n",
       "      <td>10.000000</td>\n",
       "      <td>2001.000000</td>\n",
       "      <td>4.000000</td>\n",
       "      <td>...</td>\n",
       "      <td>0.000000</td>\n",
       "      <td>0.000000</td>\n",
       "      <td>1.000000</td>\n",
       "      <td>1.000000</td>\n",
       "      <td>0.000000</td>\n",
       "      <td>0.000000</td>\n",
       "      <td>0.0</td>\n",
       "      <td>0.000000</td>\n",
       "      <td>5.000000</td>\n",
       "      <td>336.000000</td>\n",
       "    </tr>\n",
       "    <tr>\n",
       "      <th>max</th>\n",
       "      <td>43090.000000</td>\n",
       "      <td>5.000000</td>\n",
       "      <td>43091.000000</td>\n",
       "      <td>56017.000000</td>\n",
       "      <td>5605.000000</td>\n",
       "      <td>37272.200480</td>\n",
       "      <td>31.000000</td>\n",
       "      <td>12.000000</td>\n",
       "      <td>2002.000000</td>\n",
       "      <td>4.000000</td>\n",
       "      <td>...</td>\n",
       "      <td>3.000000</td>\n",
       "      <td>3.000000</td>\n",
       "      <td>3.000000</td>\n",
       "      <td>3.000000</td>\n",
       "      <td>3.000000</td>\n",
       "      <td>3.000000</td>\n",
       "      <td>0.0</td>\n",
       "      <td>3.000000</td>\n",
       "      <td>7.000000</td>\n",
       "      <td>366.000000</td>\n",
       "    </tr>\n",
       "  </tbody>\n",
       "</table>\n",
       "<p>8 rows × 684 columns</p>\n",
       "</div>"
      ],
      "text/plain": [
       "         Unnamed: 0   ETHRACE2A         IDNUM           PSU      STRATUM  \\\n",
       "count    986.000000  986.000000    986.000000    986.000000   986.000000   \n",
       "mean   22065.130832    1.864097  22066.130832  28469.777890  2843.781947   \n",
       "std    12271.654580    1.403328  12271.654580  15922.848422  1588.432032   \n",
       "min       44.000000    1.000000     45.000000   1011.000000   101.000000   \n",
       "25%    12058.250000    1.000000  12059.250000  13057.000000  1303.750000   \n",
       "50%    21932.000000    1.000000  21933.000000  29029.500000  2901.000000   \n",
       "75%    32415.750000    2.000000  32416.750000  41097.000000  4105.750000   \n",
       "max    43090.000000    5.000000  43091.000000  56017.000000  5605.000000   \n",
       "\n",
       "             WEIGHT        CDAY        CMON        CYEAR      REGION  \\\n",
       "count    986.000000  986.000000  986.000000   986.000000  986.000000   \n",
       "mean    5402.113786   15.856998    8.690669  2001.121704    2.609533   \n",
       "std     3904.984385    8.841000    2.855692     0.327109    1.079890   \n",
       "min      467.304244    1.000000    1.000000  2001.000000    1.000000   \n",
       "25%     2867.656531    8.000000    8.000000  2001.000000    2.000000   \n",
       "50%     4148.140240   16.000000    9.000000  2001.000000    3.000000   \n",
       "75%     7343.481636   24.000000   10.000000  2001.000000    4.000000   \n",
       "max    37272.200480   31.000000   12.000000  2002.000000    4.000000   \n",
       "\n",
       "              ...          HAL12ABDEP  HALP12ABDEP  MAR12ABDEP  MARP12ABDEP  \\\n",
       "count         ...          986.000000   986.000000  986.000000   986.000000   \n",
       "mean          ...            0.043611     0.191684    0.570994     0.787018   \n",
       "std           ...            0.249110     0.526237    0.883883     0.863985   \n",
       "min           ...            0.000000     0.000000    0.000000     0.000000   \n",
       "25%           ...            0.000000     0.000000    0.000000     0.000000   \n",
       "50%           ...            0.000000     0.000000    0.000000     1.000000   \n",
       "75%           ...            0.000000     0.000000    1.000000     1.000000   \n",
       "max           ...            3.000000     3.000000    3.000000     3.000000   \n",
       "\n",
       "       HER12ABDEP  HERP12ABDEP  OTHB12ABDEP  OTHBP12ABDEP  NDSymptoms  \\\n",
       "count  986.000000   986.000000        986.0    986.000000  320.000000   \n",
       "mean     0.008114     0.037525          0.0      0.014199    3.456250   \n",
       "std      0.142263     0.291350          0.0      0.168002    1.863179   \n",
       "min      0.000000     0.000000          0.0      0.000000    0.000000   \n",
       "25%      0.000000     0.000000          0.0      0.000000    2.000000   \n",
       "50%      0.000000     0.000000          0.0      0.000000    3.000000   \n",
       "75%      0.000000     0.000000          0.0      0.000000    5.000000   \n",
       "max      3.000000     3.000000          0.0      3.000000    7.000000   \n",
       "\n",
       "       CANNABIS_USE_QUANT  \n",
       "count          986.000000  \n",
       "mean           126.361055  \n",
       "std            148.979968  \n",
       "min              1.000000  \n",
       "25%              8.000000  \n",
       "50%             33.500000  \n",
       "75%            336.000000  \n",
       "max            366.000000  \n",
       "\n",
       "[8 rows x 684 columns]"
      ]
     },
     "execution_count": 2,
     "metadata": {},
     "output_type": "execute_result"
    }
   ],
   "source": [
    "### Processing variable reflecting recent cannabis use\n",
    "\n",
    "CANNABIS_USE_12M = 'S3BD5Q2C'  # 'HOW OFTEN USED CANNABIS IN THE LAST 12 MONTHS'\n",
    "\n",
    "# Convert values to numeric\n",
    "data[CANNABIS_USE_12M] = pd.to_numeric(data[CANNABIS_USE_12M], errors='coerce')\n",
    "\n",
    "# Code reference for CANNABIS_USE_12M\n",
    "CANNABIS_USE_CAT_MAP = {\n",
    "    1: \"Every day\",\n",
    "    2: \"Nearly every day\",\n",
    "    3: \"3 to 4 times a week\",\n",
    "    4: \"1 to 2 times a week\",\n",
    "    5: \"2 to 3 times a month\",\n",
    "    6: \"Once a month\",\n",
    "    7: \"7 to 11 times a year\",\n",
    "    8: \"3 to 6 times a year\",\n",
    "    9: \"2 times a year\",\n",
    "    10: \"Once a year\",\n",
    "    99: \"Unknown\",\n",
    "}\n",
    "# Recode meaningful NaN (to 11, N/A) and 'Unknowns' (99 to NaN)\n",
    "data[CANNABIS_USE_12M] = data[CANNABIS_USE_12M].replace(np.NaN, 11).replace(99, np.NaN)\n",
    "# print(data[CANNABIS_USE_12M].value_counts(sort=False, dropna=False))\n",
    "\n",
    "# Recode values so that they reflect approximately number of times of cannabis use per last year, store in new column\n",
    "\n",
    "CANNABIS_USE_TIMES_MAP = {\n",
    "    1: [365, 366],\n",
    "    2: [330, 364],\n",
    "    3: [156, 208],\n",
    "    4: [52, 104],\n",
    "    5: [24, 36],\n",
    "    6: [12, 12],\n",
    "    7: [7, 11],\n",
    "    8: [3, 4],\n",
    "    9: [2, 2],\n",
    "    10: [1, 1],\n",
    "    11: [0, 0]\n",
    "}\n",
    "\n",
    "def recode_values(row):\n",
    "    raw = row[CANNABIS_USE_12M]\n",
    "    value_range = CANNABIS_USE_TIMES_MAP.get(raw)\n",
    "    if value_range:\n",
    "        return np.random.randint(value_range[0], value_range[1] + 1)\n",
    "\n",
    "CANNABIS_USE_QUANT = 'CANNABIS_USE_QUANT'\n",
    "\n",
    "data[CANNABIS_USE_QUANT] = data.apply(lambda row: recode_values(row), axis=1)\n",
    "\n",
    "# print(data[CANNABIS_USE_QUANT].value_counts(sort=False, dropna=False))\n",
    "\n",
    "TOBACCO_12M = 'CHECK321'\n",
    "\n",
    "cannabis_condition = data[CANNABIS_USE_QUANT] > 0\n",
    "tobacco_condition = data[TOBACCO_12M] == 1\n",
    "cannabis_tobacco_subset = data[cannabis_condition & tobacco_condition].copy()  # 986 observations\n",
    "\n",
    "cannabis_tobacco_subset.describe()"
   ]
  },
  {
   "cell_type": "markdown",
   "metadata": {},
   "source": [
    "Create quantitative variable based on tobacco use (using calculations from the course example)."
   ]
  },
  {
   "cell_type": "code",
   "execution_count": 3,
   "metadata": {},
   "outputs": [],
   "source": [
    "# recoding values for S3AQ3B1 into a new variable, USFREQMO, showing smoking day rate per month\n",
    "recode_map2 = {1: 30, 2: 22, 3: 14, 4: 5, 5: 2.5, 6: 1}\n",
    "\n",
    "CIG_FREQUENCY = 'S3AQ3B1'  # USUAL FREQUENCY WHEN SMOKED CIGARETTES\n",
    "CIG_FREQUENCY_MONTH = 'CIG_FREQUENCY_MONTH'\n",
    "CIG_NUM_DAY = 'CIG_NUM_DAY'\n",
    "CIG_NUM_YEAR = 'CIG_NUM_YEAR'\n",
    "CIG_QUANTITY = 'S3AQ3C1'  # USUAL QUANTITY WHEN SMOKED CIGARETTES\n",
    "\n",
    "cannabis_tobacco_subset2 = cannabis_tobacco_subset.copy()\n",
    "\n",
    "cannabis_tobacco_subset2[CIG_FREQUENCY_MONTH] = cannabis_tobacco_subset2[CIG_FREQUENCY].map(recode_map2)\n",
    "\n",
    "# secondary variable multiplying the number of days smoked/month and the approx number of cig smoked/day\n",
    "cannabis_tobacco_subset2[CIG_NUM_DAY] = cannabis_tobacco_subset2[CIG_FREQUENCY_MONTH] * cannabis_tobacco_subset2[CIG_QUANTITY]\n",
    "cannabis_tobacco_subset2[CIG_NUM_DAY] = pd.to_numeric(cannabis_tobacco_subset2[CIG_NUM_DAY], errors='coerce')\n",
    "cannabis_tobacco_subset2[CANNABIS_USE_QUANT] = pd.to_numeric(cannabis_tobacco_subset2[CANNABIS_USE_QUANT], errors='coerce')\n"
   ]
  },
  {
   "cell_type": "markdown",
   "metadata": {},
   "source": [
    "Visualize with a scatterplot."
   ]
  },
  {
   "cell_type": "code",
   "execution_count": 4,
   "metadata": {},
   "outputs": [
    {
     "data": {
      "text/plain": [
       "Text(0.5, 1.0, 'Scatterplot for the Association Between Tobacco and Cannabis Use')"
      ]
     },
     "execution_count": 4,
     "metadata": {},
     "output_type": "execute_result"
    },
    {
     "data": {
      "image/png": "[encoded data removed]",
      "text/plain": [
       "<Figure size 432x288 with 1 Axes>"
      ]
     },
     "metadata": {
      "needs_background": "light"
     },
     "output_type": "display_data"
    }
   ],
   "source": [
    "scatplot = seaborn.regplot(x=CIG_NUM_DAY, y=CANNABIS_USE_QUANT, fit_reg=True, data=cannabis_tobacco_subset2)\n",
    "plt.xlabel('Cigarettes number per year')\n",
    "plt.ylabel('Cannabis use per year')\n",
    "plt.title('Scatterplot for the Association Between Tobacco and Cannabis Use')"
   ]
  },
  {
   "cell_type": "markdown",
   "metadata": {},
   "source": [
    "Looks like scatterplot is still not quite appropriate to show the associasion between these quasi-continuous values."
   ]
  },
  {
   "cell_type": "code",
   "execution_count": 5,
   "metadata": {
    "scrolled": true
   },
   "outputs": [
    {
     "data": {
      "text/plain": [
       "<matplotlib.axes._subplots.AxesSubplot at 0x26a8c5d7668>"
      ]
     },
     "execution_count": 5,
     "metadata": {},
     "output_type": "execute_result"
    },
    {
     "data": {
      "image/png": "[encoded data removed]",
      "text/plain": [
       "<Figure size 432x288 with 1 Axes>"
      ]
     },
     "metadata": {
      "needs_background": "light"
     },
     "output_type": "display_data"
    }
   ],
   "source": [
    "cannabis_tobacco_subset2.plot.scatter(CIG_NUM_DAY, CANNABIS_USE_QUANT)  # Yet another way to create this useless scatterplot"
   ]
  },
  {
   "cell_type": "code",
   "execution_count": 8,
   "metadata": {},
   "outputs": [
    {
     "name": "stdout",
     "output_type": "stream",
     "text": [
      "r: 0.07723245742484375\n",
      "p-value: 0.01527906573831201\n"
     ]
    }
   ],
   "source": [
    "r_value, p_value = stats.pearsonr(cannabis_tobacco_subset2[CIG_NUM_DAY], cannabis_tobacco_subset2[CANNABIS_USE_QUANT])\n",
    "print('r: {}\\np-value: {}'.format(r_value, p_value))"
   ]
  },
  {
   "cell_type": "markdown",
   "metadata": {},
   "source": [
    "So, if it is even linear (which I am not exactly sure about), the association between cannabis and topbacco use is very weak, close to zero.\n",
    "\n",
    "Next attempt to have a look at Q -> Q behaviour just for the sake of it is another dataset."
   ]
  },
  {
   "cell_type": "code",
   "execution_count": 24,
   "metadata": {},
   "outputs": [
    {
     "data": {
      "text/plain": [
       "Text(0.5, 1.0, 'Scatterplot for the Association Between Internet Use Rate and Life Expectancy')"
      ]
     },
     "execution_count": 24,
     "metadata": {},
     "output_type": "execute_result"
    },
    {
     "data": {
      "image/png": "[encoded data removed]",
      "text/plain": [
       "<Figure size 432x288 with 1 Axes>"
      ]
     },
     "metadata": {
      "needs_background": "light"
     },
     "output_type": "display_data"
    }
   ],
   "source": [
    "GAPMINDER = r\"C:\\Users\\USER\\Documents\\Courses\\Coursera\\dai\\datasets\\gapminder\\gapminder.csv\"\n",
    "\n",
    "# Load data\n",
    "data_gapminder = pd.read_csv(GAPMINDER, low_memory=False)\n",
    "data_gapminder['lifeexpectancy'] = pd.to_numeric(data_gapminder['lifeexpectancy'], errors='coerce')\n",
    "data_gapminder['internetuserate'] = pd.to_numeric(data_gapminder['internetuserate'], errors='coerce')\n",
    "no_na = data_gapminder[['lifeexpectancy', 'internetuserate']].dropna()\n",
    "scatplot_gapminder = seaborn.regplot(x='internetuserate', y='lifeexpectancy', fit_reg=True, data=no_na)\n",
    "plt.xlabel('Internet Use Rate')\n",
    "plt.ylabel('Life Expectancy')\n",
    "plt.title('Scatterplot for the Association Between Internet Use Rate and Life Expectancy')"
   ]
  },
  {
   "cell_type": "markdown",
   "metadata": {},
   "source": [
    "Well, this one at long last produced a realistic scatterplot with a quite predictable result. And now for the correlation coefficient test:"
   ]
  },
  {
   "cell_type": "code",
   "execution_count": 25,
   "metadata": {},
   "outputs": [
    {
     "data": {
      "text/html": [
       "<div>\n",
       "<style scoped>\n",
       "    .dataframe tbody tr th:only-of-type {\n",
       "        vertical-align: middle;\n",
       "    }\n",
       "\n",
       "    .dataframe tbody tr th {\n",
       "        vertical-align: top;\n",
       "    }\n",
       "\n",
       "    .dataframe thead th {\n",
       "        text-align: right;\n",
       "    }\n",
       "</style>\n",
       "<table border=\"1\" class=\"dataframe\">\n",
       "  <thead>\n",
       "    <tr style=\"text-align: right;\">\n",
       "      <th></th>\n",
       "      <th>lifeexpectancy</th>\n",
       "      <th>internetuserate</th>\n",
       "    </tr>\n",
       "  </thead>\n",
       "  <tbody>\n",
       "    <tr>\n",
       "      <th>count</th>\n",
       "      <td>179.000000</td>\n",
       "      <td>179.000000</td>\n",
       "    </tr>\n",
       "    <tr>\n",
       "      <th>mean</th>\n",
       "      <td>69.770000</td>\n",
       "      <td>33.779510</td>\n",
       "    </tr>\n",
       "    <tr>\n",
       "      <th>std</th>\n",
       "      <td>9.649001</td>\n",
       "      <td>27.182508</td>\n",
       "    </tr>\n",
       "    <tr>\n",
       "      <th>min</th>\n",
       "      <td>48.132000</td>\n",
       "      <td>0.210066</td>\n",
       "    </tr>\n",
       "    <tr>\n",
       "      <th>25%</th>\n",
       "      <td>64.447000</td>\n",
       "      <td>9.724985</td>\n",
       "    </tr>\n",
       "    <tr>\n",
       "      <th>50%</th>\n",
       "      <td>73.131000</td>\n",
       "      <td>29.879921</td>\n",
       "    </tr>\n",
       "    <tr>\n",
       "      <th>75%</th>\n",
       "      <td>76.337000</td>\n",
       "      <td>51.936111</td>\n",
       "    </tr>\n",
       "    <tr>\n",
       "      <th>max</th>\n",
       "      <td>83.394000</td>\n",
       "      <td>95.638113</td>\n",
       "    </tr>\n",
       "  </tbody>\n",
       "</table>\n",
       "</div>"
      ],
      "text/plain": [
       "       lifeexpectancy  internetuserate\n",
       "count      179.000000       179.000000\n",
       "mean        69.770000        33.779510\n",
       "std          9.649001        27.182508\n",
       "min         48.132000         0.210066\n",
       "25%         64.447000         9.724985\n",
       "50%         73.131000        29.879921\n",
       "75%         76.337000        51.936111\n",
       "max         83.394000        95.638113"
      ]
     },
     "execution_count": 25,
     "metadata": {},
     "output_type": "execute_result"
    }
   ],
   "source": [
    "no_na.describe()"
   ]
  },
  {
   "cell_type": "code",
   "execution_count": 26,
   "metadata": {},
   "outputs": [
    {
     "name": "stdout",
     "output_type": "stream",
     "text": [
      "r: 0.7639195050322616\n",
      "p-value: 1.6663559690408397e-35\n"
     ]
    }
   ],
   "source": [
    "r_value, p_value = stats.pearsonr(no_na['internetuserate'], no_na['lifeexpectancy'])\n",
    "print('r: {}\\np-value: {}'.format(r_value, p_value))"
   ]
  },
  {
   "cell_type": "markdown",
   "metadata": {},
   "source": [
    "So, the test shows a rather strong positive relationship between internet use rate and life expectancy, which is accompanied by a very low p-value. So there, the we more one surfs the internet, the longer they live."
   ]
  }
 ],
 "metadata": {
  "kernelspec": {
   "display_name": "Python 3",
   "language": "python",
   "name": "python3"
  },
  "language_info": {
   "codemirror_mode": {
    "name": "ipython",
    "version": 3
   },
   "file_extension": ".py",
   "mimetype": "text/x-python",
   "name": "python",
   "nbconvert_exporter": "python",
   "pygments_lexer": "ipython3",
   "version": "3.6.4"
  }
 },
 "nbformat": 4,
 "nbformat_minor": 2
}
