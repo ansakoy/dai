{
 "cells": [
  {
   "cell_type": "markdown",
   "metadata": {},
   "source": [
    "# Coursera: Data Analysis Tools – Assignment 1\n",
    "For this assignment the task was to run ANOVA test for some variables in the dataset selected in the previous course.\n",
    "As my variables of interest are all categorical, I had to come up with a newly found quantitative variable, because ANOVA is used for the `C -> Q` cases where the explanatory variable is categorical and the response variable is quantitative.\n",
    "\n",
    "My choice was to look at the relationship of cannabis use and perceived health. Hense my hypotheses:\n",
    "* H<sub>0</sub>: There is no relationship between cannabis use and health perception;\n",
    "* H<sub>A</sub>: There is some relationship between cannabis use and health perception.\n",
    "\n",
    "My sample will be:\n",
    "* The respondents who reported using cannabis within last 12 months at least once (N=1586)\n",
    "\n",
    "The first step was to convert the information about cannabis use to quantitative values and form the sample."
   ]
  },
  {
   "cell_type": "code",
   "execution_count": 1,
   "metadata": {},
   "outputs": [
    {
     "name": "stdout",
     "output_type": "stream",
     "text": [
      "NaN                     41479\n",
      "3 to 6 times a year       192\n",
      "Every day                 227\n",
      "1 to 2 times a week       206\n",
      "Nearly every day          121\n",
      "2 times a year            149\n",
      "Once a year               134\n",
      "Unknown                    23\n",
      "Once a month              165\n",
      "2 to 3 times a month      175\n",
      "3 to 4 times a week       117\n",
      "7 to 11 times a year      105\n",
      "Name: S3BD5Q2C, dtype: int64\n"
     ]
    }
   ],
   "source": [
    "import numpy as np\n",
    "import pandas as pd\n",
    "import statsmodels.formula.api as smf\n",
    "import statsmodels.stats.multicomp as multi\n",
    "\n",
    "NESARC = r\"C:\\Users\\USER\\Documents\\Courses\\Coursera\\dai\\datasets\\nesarc\\nesarc_pds.csv\"\n",
    "\n",
    "# Loading data\n",
    "data = pd.read_csv(NESARC, low_memory=False)\n",
    "\n",
    "\n",
    "### Processing variable reflecting recent cannabis use\n",
    "\n",
    "CANNABIS_USE_12M = 'S3BD5Q2C'  # 'HOW OFTEN USED CANNABIS IN THE LAST 12 MONTHS'\n",
    "\n",
    "# Convert values to numeric\n",
    "data[CANNABIS_USE_12M] = pd.to_numeric(data[CANNABIS_USE_12M], errors='coerce')\n",
    "\n",
    "# Code reference for CANNABIS_USE_12M\n",
    "CANNABIS_USE_CAT_MAP = {\n",
    "    1: \"Every day\",\n",
    "    2: \"Nearly every day\",\n",
    "    3: \"3 to 4 times a week\",\n",
    "    4: \"1 to 2 times a week\",\n",
    "    5: \"2 to 3 times a month\",\n",
    "    6: \"Once a month\",\n",
    "    7: \"7 to 11 times a year\",\n",
    "    8: \"3 to 6 times a year\",\n",
    "    9: \"2 times a year\",\n",
    "    10: \"Once a year\",\n",
    "    99: \"Unknown\",\n",
    "}\n",
    "\n",
    "# Get counts for CANNABIS_USE_12M\n",
    "print(data[CANNABIS_USE_12M].value_counts(sort=False, dropna=False).rename(CANNABIS_USE_CAT_MAP))"
   ]
  },
  {
   "cell_type": "code",
   "execution_count": 2,
   "metadata": {},
   "outputs": [
    {
     "name": "stdout",
     "output_type": "stream",
     "text": [
      " 11.0    41479\n",
      " 8.0       192\n",
      " 1.0       227\n",
      " 4.0       206\n",
      " 2.0       121\n",
      " 9.0       149\n",
      " 10.0      134\n",
      " 6.0       165\n",
      " 5.0       175\n",
      " 3.0       117\n",
      "NaN         23\n",
      " 7.0       105\n",
      "Name: S3BD5Q2C, dtype: int64\n"
     ]
    }
   ],
   "source": [
    "# Recode meaningful NaN (to 11, N/A) and 'Unknowns' (99 to NaN)\n",
    "data[CANNABIS_USE_12M] = data[CANNABIS_USE_12M].replace(np.NaN, 11).replace(99, np.NaN)\n",
    "print(data[CANNABIS_USE_12M].value_counts(sort=False, dropna=False))"
   ]
  },
  {
   "cell_type": "code",
   "execution_count": 4,
   "metadata": {
    "scrolled": false
   },
   "outputs": [
    {
     "name": "stdout",
     "output_type": "stream",
     "text": [
      " 0.0      41479\n",
      " 1.0        134\n",
      " 2.0        149\n",
      " 4.5        192\n",
      " 9.0        105\n",
      " 330.0      121\n",
      " 75.0       175\n",
      " 365.0      227\n",
      " 12.0       165\n",
      "NaN          23\n",
      " 104.0      206\n",
      " 182.0      117\n",
      "Name: CANNABIS_USE_QUANT, dtype: int64\n"
     ]
    }
   ],
   "source": [
    "# Recode values so that they reflect approximately number of times of cannabis use per last year, store in new column\n",
    "\n",
    "CANNABIS_USE_TIMES_MAP = {\n",
    "    1: 365,\n",
    "    2: 330,\n",
    "    3: 182,\n",
    "    4: 104,\n",
    "    5: 75,\n",
    "    6: 12,\n",
    "    7: 9,\n",
    "    8: 4.5,\n",
    "    9: 2,\n",
    "    10: 1,\n",
    "    11: 0\n",
    "}\n",
    "\n",
    "def recode_values(row):\n",
    "    return CANNABIS_USE_TIMES_MAP.get(row[CANNABIS_USE_12M])\n",
    "\n",
    "CANNABIS_USE_QUANT = 'CANNABIS_USE_QUANT'\n",
    "\n",
    "data[CANNABIS_USE_QUANT] = data.apply(lambda row: recode_values(row), axis=1)\n",
    "\n",
    "print(data[CANNABIS_USE_QUANT].value_counts(sort=False, dropna=False))"
   ]
  },
  {
   "cell_type": "code",
   "execution_count": 6,
   "metadata": {},
   "outputs": [
    {
     "name": "stdout",
     "output_type": "stream",
     "text": [
      "4.5      192\n",
      "1.0      134\n",
      "2.0      149\n",
      "9.0      105\n",
      "104.0    206\n",
      "12.0     165\n",
      "330.0    121\n",
      "75.0     175\n",
      "182.0    117\n",
      "365.0    227\n",
      "Name: CANNABIS_USE_QUANT, dtype: int64\n"
     ]
    }
   ],
   "source": [
    "# Convert CANNABIS_USE_QUANT to numeric\n",
    "data[CANNABIS_USE_QUANT] = pd.to_numeric(data[CANNABIS_USE_QUANT], errors='coerce')\n",
    "\n",
    "# Make a subset only those who used cannabis within past 12 months\n",
    "subset_cannabis = data[data[CANNABIS_USE_QUANT] > 0].copy()\n",
    "\n",
    "print(subset_cannabis[CANNABIS_USE_QUANT].value_counts(sort=False, dropna=False))"
   ]
  },
  {
   "cell_type": "code",
   "execution_count": 8,
   "metadata": {},
   "outputs": [
    {
     "name": "stdout",
     "output_type": "stream",
     "text": [
      "                            OLS Regression Results                            \n",
      "==============================================================================\n",
      "Dep. Variable:     CANNABIS_USE_QUANT   R-squared:                       0.014\n",
      "Model:                            OLS   Adj. R-squared:                  0.012\n",
      "Method:                 Least Squares   F-statistic:                     5.699\n",
      "Date:                Thu, 07 Feb 2019   Prob (F-statistic):           0.000149\n",
      "Time:                        17:05:11   Log-Likelihood:                -10034.\n",
      "No. Observations:                1586   AIC:                         2.008e+04\n",
      "Df Residuals:                    1581   BIC:                         2.010e+04\n",
      "Df Model:                           4                                         \n",
      "Covariance Type:            nonrobust                                         \n",
      "===================================================================================\n",
      "                      coef    std err          t      P>|t|      [0.025      0.975]\n",
      "-----------------------------------------------------------------------------------\n",
      "Intercept          97.5121      6.668     14.624      0.000      84.433     110.591\n",
      "C(S1Q16)[T.2.0]     8.9303      8.865      1.007      0.314      -8.459      26.319\n",
      "C(S1Q16)[T.3.0]    35.8290      9.471      3.783      0.000      17.253      54.405\n",
      "C(S1Q16)[T.4.0]    27.3291     12.348      2.213      0.027       3.108      51.550\n",
      "C(S1Q16)[T.5.0]    58.6404     18.860      3.109      0.002      21.647      95.633\n",
      "==============================================================================\n",
      "Omnibus:                      242.688   Durbin-Watson:                   2.030\n",
      "Prob(Omnibus):                  0.000   Jarque-Bera (JB):              263.371\n",
      "Skew:                           0.941   Prob(JB):                     6.45e-58\n",
      "Kurtosis:                       2.333   Cond. No.                         6.48\n",
      "==============================================================================\n",
      "\n",
      "Warnings:\n",
      "[1] Standard Errors assume that the covariance matrix of the errors is correctly specified.\n"
     ]
    }
   ],
   "source": [
    "# Introduce health perception as categorical variable\n",
    "HEALTH_PERCEPTION = 'S1Q16'  # 'SELF-PERCEIVED CURRENT HEALTH'\n",
    "\n",
    "# Convert values to numeric\n",
    "subset_cannabis[HEALTH_PERCEPTION] = pd.to_numeric(data[HEALTH_PERCEPTION], errors='coerce')\n",
    "\n",
    "# Recode Unknowns\n",
    "subset_cannabis[HEALTH_PERCEPTION] = subset_cannabis[HEALTH_PERCEPTION].replace(9, np.nan)\n",
    "\n",
    "# Create dataframe for only 2 variables\n",
    "subset_cann_health = subset_cannabis[[CANNABIS_USE_QUANT, HEALTH_PERCEPTION]].dropna()\n",
    "\n",
    "# Use .ols method to get the F-statistic and associated p-value\n",
    "formula_health_cannab = '{} ~ C({})'.format(CANNABIS_USE_QUANT, HEALTH_PERCEPTION)\n",
    "model_health_cannab = smf.ols(formula=formula_health_cannab, data=subset_cann_health)\n",
    "results_health_cannab = model_health_cannab.fit()\n",
    "print (results_health_cannab.summary())"
   ]
  },
  {
   "cell_type": "code",
   "execution_count": null,
   "metadata": {},
   "outputs": [],
   "source": []
  }
 ],
 "metadata": {
  "kernelspec": {
   "display_name": "Python 3",
   "language": "python",
   "name": "python3"
  },
  "language_info": {
   "codemirror_mode": {
    "name": "ipython",
    "version": 3
   },
   "file_extension": ".py",
   "mimetype": "text/x-python",
   "name": "python",
   "nbconvert_exporter": "python",
   "pygments_lexer": "ipython3",
   "version": "3.6.4"
  }
 },
 "nbformat": 4,
 "nbformat_minor": 2
}
