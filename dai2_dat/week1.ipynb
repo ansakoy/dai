{
 "cells": [
  {
   "cell_type": "markdown",
   "metadata": {},
   "source": [
    "This is a workbook for processing the week's material."
   ]
  },
  {
   "cell_type": "code",
   "execution_count": 15,
   "metadata": {},
   "outputs": [
    {
     "name": "stdout",
     "output_type": "stream",
     "text": [
      "NUMCIGMO_EST\n",
      "1.0        29\n",
      "2.0        14\n",
      "2.5        11\n",
      "3.0        12\n",
      "4.0         2\n",
      "5.0        34\n",
      "6.0         1\n",
      "7.5        12\n",
      "8.0         1\n",
      "10.0       38\n",
      "12.5        9\n",
      "14.0        3\n",
      "15.0       14\n",
      "17.5        1\n",
      "20.0       13\n",
      "22.0        4\n",
      "24.0        1\n",
      "25.0       14\n",
      "28.0       17\n",
      "30.0       25\n",
      "35.0        2\n",
      "42.0       19\n",
      "44.0        9\n",
      "50.0        7\n",
      "56.0       15\n",
      "60.0       28\n",
      "66.0       14\n",
      "70.0       22\n",
      "84.0        3\n",
      "88.0        6\n",
      "         ... \n",
      "140.0      10\n",
      "150.0     108\n",
      "154.0       3\n",
      "176.0       3\n",
      "180.0      47\n",
      "210.0      39\n",
      "220.0      12\n",
      "240.0      36\n",
      "270.0       6\n",
      "280.0       1\n",
      "300.0     350\n",
      "330.0       4\n",
      "360.0      25\n",
      "390.0       7\n",
      "420.0       2\n",
      "450.0      97\n",
      "480.0       5\n",
      "510.0       2\n",
      "540.0       3\n",
      "570.0       1\n",
      "600.0     357\n",
      "750.0      13\n",
      "810.0       1\n",
      "840.0       1\n",
      "900.0      38\n",
      "1050.0      1\n",
      "1200.0     29\n",
      "1800.0      2\n",
      "2400.0      1\n",
      "2940.0      1\n",
      "Length: 66, dtype: int64\n"
     ]
    }
   ],
   "source": [
    "import numpy as np\n",
    "import pandas as pd\n",
    "import statsmodels.formula.api as smf\n",
    "import statsmodels.stats.multicomp as multi\n",
    "\n",
    "\n",
    "NESARC = r\"C:\\Users\\USER\\Documents\\Courses\\Coursera\\dai\\datasets\\nesarc\\nesarc_pds.csv\"\n",
    "\n",
    "data = pd.read_csv(NESARC, low_memory=False)\n",
    "\n",
    "#setting variables you will be working with to numeric\n",
    "data['S3AQ3B1'] = pd.to_numeric(data['S3AQ3B1'], errors='coerce')\n",
    "data['S3AQ3C1'] = pd.to_numeric(data['S3AQ3C1'], errors='coerce')\n",
    "data['CHECK321'] = pd.to_numeric(data['CHECK321'], errors='coerce')\n",
    "\n",
    "#subset data to young adults age 18 to 25 who have smoked in the past 12 months\n",
    "sub1=data[(data['AGE'] >= 18) & (data['AGE'] <= 25) & (data['CHECK321'] == 1)].copy()\n",
    "\n",
    "#SETTING MISSING DATA\n",
    "sub1['S3AQ3B1']=sub1['S3AQ3B1'].replace(9, np.nan)\n",
    "sub1['S3AQ3C1']=sub1['S3AQ3C1'].replace(99, np.nan)\n",
    "\n",
    "#recoding number of days smoked in the past month\n",
    "recode1 = {1: 30, 2: 22, 3: 14, 4: 5, 5: 2.5, 6: 1}\n",
    "sub1['USFREQMO']= sub1['S3AQ3B1'].map(recode1)\n",
    "\n",
    "#converting new variable USFREQMMO to numeric\n",
    "sub1['USFREQMO'] = pd.to_numeric(sub1['USFREQMO'], errors='coerce')\n",
    "\n",
    "# Creating a secondary variable multiplying the days smoked/month and the number of cig/per day\n",
    "sub1['NUMCIGMO_EST'] = sub1['USFREQMO'] * sub1['S3AQ3C1']\n",
    "\n",
    "sub1['NUMCIGMO_EST'] = pd.to_numeric(sub1['NUMCIGMO_EST'], errors='coerce')\n",
    "\n",
    "ct1 = sub1.groupby('NUMCIGMO_EST').size()\n",
    "\n",
    "print(ct1)"
   ]
  },
  {
   "cell_type": "code",
   "execution_count": 16,
   "metadata": {},
   "outputs": [
    {
     "name": "stdout",
     "output_type": "stream",
     "text": [
      "                            OLS Regression Results                            \n",
      "==============================================================================\n",
      "Dep. Variable:           NUMCIGMO_EST   R-squared:                       0.002\n",
      "Model:                            OLS   Adj. R-squared:                  0.002\n",
      "Method:                 Least Squares   F-statistic:                     3.550\n",
      "Date:                Wed, 06 Feb 2019   Prob (F-statistic):             0.0597\n",
      "Time:                        21:35:25   Log-Likelihood:                -11934.\n",
      "No. Observations:                1697   AIC:                         2.387e+04\n",
      "Df Residuals:                    1695   BIC:                         2.388e+04\n",
      "Df Model:                           1                                         \n",
      "Covariance Type:            nonrobust                                         \n",
      "========================================================================================\n",
      "                           coef    std err          t      P>|t|      [0.025      0.975]\n",
      "----------------------------------------------------------------------------------------\n",
      "Intercept              312.8380      7.747     40.381      0.000     297.643     328.033\n",
      "C(MAJORDEPLIFE)[T.1]    28.5370     15.146      1.884      0.060      -1.169      58.243\n",
      "==============================================================================\n",
      "Omnibus:                      673.875   Durbin-Watson:                   1.982\n",
      "Prob(Omnibus):                  0.000   Jarque-Bera (JB):             5043.141\n",
      "Skew:                           1.672   Prob(JB):                         0.00\n",
      "Kurtosis:                      10.755   Cond. No.                         2.46\n",
      "==============================================================================\n",
      "\n",
      "Warnings:\n",
      "[1] Standard Errors assume that the covariance matrix of the errors is correctly specified.\n"
     ]
    }
   ],
   "source": [
    "# using ols function for calculating the F-statistic and associated p value\n",
    "model1 = smf.ols(formula='NUMCIGMO_EST ~ C(MAJORDEPLIFE)', data=sub1)\n",
    "results1 = model1.fit()\n",
    "print(results1.summary())"
   ]
  },
  {
   "cell_type": "code",
   "execution_count": null,
   "metadata": {},
   "outputs": [],
   "source": []
  }
 ],
 "metadata": {
  "kernelspec": {
   "display_name": "Python 3",
   "language": "python",
   "name": "python3"
  },
  "language_info": {
   "codemirror_mode": {
    "name": "ipython",
    "version": 3
   },
   "file_extension": ".py",
   "mimetype": "text/x-python",
   "name": "python",
   "nbconvert_exporter": "python",
   "pygments_lexer": "ipython3",
   "version": "3.6.4"
  }
 },
 "nbformat": 4,
 "nbformat_minor": 2
}
