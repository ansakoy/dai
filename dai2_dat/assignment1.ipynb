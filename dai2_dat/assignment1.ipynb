{
 "cells": [
  {
   "cell_type": "markdown",
   "metadata": {},
   "source": [
    "# Coursera: Data Analysis Tools – Assignment 1\n",
    "For this assignment the task was to run ANOVA test for some variables in the dataset selected in the previous course.\n",
    "As my variables of interest are all categorical, I had to come up with a newly found quantitative variable, because ANOVA is used for the `C -> Q` cases where the explanatory variable is categorical and the response variable is quantitative.\n",
    "\n",
    "My choice was to look at the relationship of cannabis use and perceived health. Hense my hypotheses:\n",
    "* H<sub>0</sub>: There is no relationship between cannabis use and health perception;\n",
    "* H<sub>A</sub>: There is some relationship between cannabis use and health perception.\n",
    "\n",
    "My sample will be:\n",
    "* The respondents who reported using cannabis within last 12 months at least once (N=1586)\n",
    "\n",
    "The first step was to convert the information about cannabis use to quantitative values and form the sample. This variable initially contains 11 types of values, including 99 for Unknown, and also NaN values for the cases where the question is not applicable."
   ]
  },
  {
   "cell_type": "code",
   "execution_count": 15,
   "metadata": {},
   "outputs": [
    {
     "name": "stdout",
     "output_type": "stream",
     "text": [
      "NaN                     41479\n",
      "3 to 6 times a year       192\n",
      "Every day                 227\n",
      "1 to 2 times a week       206\n",
      "Nearly every day          121\n",
      "2 times a year            149\n",
      "Once a year               134\n",
      "Unknown                    23\n",
      "Once a month              165\n",
      "2 to 3 times a month      175\n",
      "3 to 4 times a week       117\n",
      "7 to 11 times a year      105\n",
      "Name: S3BD5Q2C, dtype: int64\n"
     ]
    }
   ],
   "source": [
    "import numpy as np\n",
    "import pandas as pd\n",
    "import statsmodels.formula.api as smf\n",
    "import statsmodels.stats.multicomp as multi\n",
    "\n",
    "NESARC = r\"C:\\Users\\USER\\Documents\\Courses\\Coursera\\dai\\datasets\\nesarc\\nesarc_pds.csv\"\n",
    "\n",
    "# Loading data\n",
    "data = pd.read_csv(NESARC, low_memory=False)\n",
    "\n",
    "\n",
    "### Processing variable reflecting recent cannabis use\n",
    "\n",
    "CANNABIS_USE_12M = 'S3BD5Q2C'  # 'HOW OFTEN USED CANNABIS IN THE LAST 12 MONTHS'\n",
    "\n",
    "# Convert values to numeric\n",
    "data[CANNABIS_USE_12M] = pd.to_numeric(data[CANNABIS_USE_12M], errors='coerce')\n",
    "\n",
    "# Code reference for CANNABIS_USE_12M\n",
    "CANNABIS_USE_CAT_MAP = {\n",
    "    1: \"Every day\",\n",
    "    2: \"Nearly every day\",\n",
    "    3: \"3 to 4 times a week\",\n",
    "    4: \"1 to 2 times a week\",\n",
    "    5: \"2 to 3 times a month\",\n",
    "    6: \"Once a month\",\n",
    "    7: \"7 to 11 times a year\",\n",
    "    8: \"3 to 6 times a year\",\n",
    "    9: \"2 times a year\",\n",
    "    10: \"Once a year\",\n",
    "    99: \"Unknown\",\n",
    "}\n",
    "\n",
    "# Get counts for CANNABIS_USE_12M\n",
    "print(data[CANNABIS_USE_12M].value_counts(sort=False, dropna=False).rename(CANNABIS_USE_CAT_MAP))"
   ]
  },
  {
   "cell_type": "markdown",
   "metadata": {},
   "source": [
    "So the NaN values were recoded to be `11`, to keep their distinction, while the Unknowns were recoded to be `NaN`."
   ]
  },
  {
   "cell_type": "code",
   "execution_count": 16,
   "metadata": {
    "scrolled": false
   },
   "outputs": [
    {
     "name": "stdout",
     "output_type": "stream",
     "text": [
      " 11.0    41479\n",
      " 8.0       192\n",
      " 1.0       227\n",
      " 4.0       206\n",
      " 2.0       121\n",
      " 9.0       149\n",
      " 10.0      134\n",
      " 6.0       165\n",
      " 5.0       175\n",
      " 3.0       117\n",
      "NaN         23\n",
      " 7.0       105\n",
      "Name: S3BD5Q2C, dtype: int64\n"
     ]
    }
   ],
   "source": [
    "# Recode meaningful NaN (to 11, N/A) and 'Unknowns' (99 to NaN)\n",
    "data[CANNABIS_USE_12M] = data[CANNABIS_USE_12M].replace(np.NaN, 11).replace(99, np.NaN)\n",
    "print(data[CANNABIS_USE_12M].value_counts(sort=False, dropna=False))"
   ]
  },
  {
   "cell_type": "markdown",
   "metadata": {},
   "source": [
    "Next, the values for the cases of use were replaced by values reflecting the approximate number of use cases per the past 12 months. These values are based on the descriptive meanings of these values (such as `Every day => 365 cases per year`; `Nearly every day => 365 * .9 = 330 cases per year`; `3 to 4 times a week => 52 * 3.5 = 182 cases per year`, etc.)."
   ]
  },
  {
   "cell_type": "code",
   "execution_count": 17,
   "metadata": {
    "scrolled": false
   },
   "outputs": [
    {
     "name": "stdout",
     "output_type": "stream",
     "text": [
      " 0.0      41479\n",
      " 1.0        134\n",
      " 2.0        149\n",
      " 4.5        192\n",
      " 9.0        105\n",
      " 330.0      121\n",
      " 75.0       175\n",
      " 365.0      227\n",
      " 12.0       165\n",
      "NaN          23\n",
      " 104.0      206\n",
      " 182.0      117\n",
      "Name: CANNABIS_USE_QUANT, dtype: int64\n"
     ]
    }
   ],
   "source": [
    "# Recode values so that they reflect approximately number of times of cannabis use per last year, store in new column\n",
    "\n",
    "CANNABIS_USE_TIMES_MAP = {\n",
    "    1: 365,\n",
    "    2: 330,\n",
    "    3: 182,\n",
    "    4: 104,\n",
    "    5: 75,\n",
    "    6: 12,\n",
    "    7: 9,\n",
    "    8: 4.5,\n",
    "    9: 2,\n",
    "    10: 1,\n",
    "    11: 0\n",
    "}\n",
    "\n",
    "def recode_values(row):\n",
    "    return CANNABIS_USE_TIMES_MAP.get(row[CANNABIS_USE_12M])\n",
    "\n",
    "CANNABIS_USE_QUANT = 'CANNABIS_USE_QUANT'\n",
    "\n",
    "data[CANNABIS_USE_QUANT] = data.apply(lambda row: recode_values(row), axis=1)\n",
    "\n",
    "print(data[CANNABIS_USE_QUANT].value_counts(sort=False, dropna=False))"
   ]
  },
  {
   "cell_type": "markdown",
   "metadata": {},
   "source": [
    "These values were next converted to numeric to be used as quantitative data. Based on the newly created quantitative variable `CANNABIS_USE_QUANT` a subset was created only for the cases when cannabis was used in the past 12 months."
   ]
  },
  {
   "cell_type": "code",
   "execution_count": 18,
   "metadata": {},
   "outputs": [
    {
     "name": "stdout",
     "output_type": "stream",
     "text": [
      "4.5      192\n",
      "1.0      134\n",
      "2.0      149\n",
      "9.0      105\n",
      "104.0    206\n",
      "12.0     165\n",
      "330.0    121\n",
      "75.0     175\n",
      "182.0    117\n",
      "365.0    227\n",
      "Name: CANNABIS_USE_QUANT, dtype: int64\n"
     ]
    }
   ],
   "source": [
    "# Convert CANNABIS_USE_QUANT to numeric\n",
    "data[CANNABIS_USE_QUANT] = pd.to_numeric(data[CANNABIS_USE_QUANT], errors='coerce')\n",
    "\n",
    "# Make a subset only those who used cannabis within past 12 months\n",
    "subset_cannabis = data[data[CANNABIS_USE_QUANT] > 0].copy()\n",
    "\n",
    "print(subset_cannabis[CANNABIS_USE_QUANT].value_counts(sort=False, dropna=False))"
   ]
  },
  {
   "cell_type": "markdown",
   "metadata": {},
   "source": [
    "The next step was to handle the explanatory variable HEALTH_PERCEPTION. This variable has 6 possible values, one of which is Unknown. As this variable was going to be used in its categorical capacity only, its coded values were replaced by their text meanings."
   ]
  },
  {
   "cell_type": "code",
   "execution_count": 19,
   "metadata": {},
   "outputs": [
    {
     "name": "stdout",
     "output_type": "stream",
     "text": [
      "NaN            5\n",
      "Good         406\n",
      "Excellent    413\n",
      "Very good    538\n",
      "Fair         170\n",
      "Poor          59\n",
      "Name: S1Q16, dtype: int64\n"
     ]
    }
   ],
   "source": [
    "# Introduce health perception as categorical variable\n",
    "HEALTH_PERCEPTION = 'S1Q16'  # 'SELF-PERCEIVED CURRENT HEALTH'\n",
    "\n",
    "# Reference for the health variable\n",
    "HEALTH_VALUES = {\n",
    "    1: 'Excellent',\n",
    "    2: 'Very good',\n",
    "    3: 'Good',\n",
    "    4: 'Fair',\n",
    "    5: 'Poor',\n",
    "    9: 'Unknown'\n",
    "}\n",
    "\n",
    "# Convert values to numeric\n",
    "subset_cannabis[HEALTH_PERCEPTION] = pd.to_numeric(data[HEALTH_PERCEPTION], errors='coerce')\n",
    "\n",
    "# Recode Unknowns\n",
    "subset_cannabis[HEALTH_PERCEPTION] = subset_cannabis[HEALTH_PERCEPTION].replace(9, np.nan)\n",
    "\n",
    "# Replace codes by meanings\n",
    "\n",
    "def decode_values(row):\n",
    "    return HEALTH_VALUES.get(row[HEALTH_PERCEPTION])\n",
    "\n",
    "subset_cannabis[HEALTH_PERCEPTION] = subset_cannabis.apply(lambda row: decode_values(row), axis=1)\n",
    "\n",
    "print(subset_cannabis[HEALTH_PERCEPTION].value_counts(sort=False, dropna=False))"
   ]
  },
  {
   "cell_type": "markdown",
   "metadata": {},
   "source": [
    "Lastly, a new dataframe was created containing only the two variables of interest: `CANNABIS_USE_QUANT` and `HEALTH_PERCEPTION`. All NaN values were dropped.\n",
    "The ANOVA test was run on these variables."
   ]
  },
  {
   "cell_type": "code",
   "execution_count": 20,
   "metadata": {},
   "outputs": [
    {
     "name": "stdout",
     "output_type": "stream",
     "text": [
      "                            OLS Regression Results                            \n",
      "==============================================================================\n",
      "Dep. Variable:     CANNABIS_USE_QUANT   R-squared:                       0.014\n",
      "Model:                            OLS   Adj. R-squared:                  0.012\n",
      "Method:                 Least Squares   F-statistic:                     5.699\n",
      "Date:                Fri, 08 Feb 2019   Prob (F-statistic):           0.000149\n",
      "Time:                        12:28:46   Log-Likelihood:                -10034.\n",
      "No. Observations:                1586   AIC:                         2.008e+04\n",
      "Df Residuals:                    1581   BIC:                         2.010e+04\n",
      "Df Model:                           4                                         \n",
      "Covariance Type:            nonrobust                                         \n",
      "=========================================================================================\n",
      "                            coef    std err          t      P>|t|      [0.025      0.975]\n",
      "-----------------------------------------------------------------------------------------\n",
      "Intercept                97.5121      6.668     14.624      0.000      84.433     110.591\n",
      "C(S1Q16)[T.Fair]         27.3291     12.348      2.213      0.027       3.108      51.550\n",
      "C(S1Q16)[T.Good]         35.8290      9.471      3.783      0.000      17.253      54.405\n",
      "C(S1Q16)[T.Poor]         58.6404     18.860      3.109      0.002      21.647      95.633\n",
      "C(S1Q16)[T.Very good]     8.9303      8.865      1.007      0.314      -8.459      26.319\n",
      "==============================================================================\n",
      "Omnibus:                      242.688   Durbin-Watson:                   2.030\n",
      "Prob(Omnibus):                  0.000   Jarque-Bera (JB):              263.371\n",
      "Skew:                           0.941   Prob(JB):                     6.45e-58\n",
      "Kurtosis:                       2.333   Cond. No.                         6.48\n",
      "==============================================================================\n",
      "\n",
      "Warnings:\n",
      "[1] Standard Errors assume that the covariance matrix of the errors is correctly specified.\n"
     ]
    }
   ],
   "source": [
    "# Create dataframe for only 2 variables\n",
    "subset_cann_health = subset_cannabis[[CANNABIS_USE_QUANT, HEALTH_PERCEPTION]].dropna()\n",
    "\n",
    "# Use .ols method to get the F-statistic and associated p-value\n",
    "formula_health_cannab = '{} ~ C({})'.format(CANNABIS_USE_QUANT, HEALTH_PERCEPTION)\n",
    "model_health_cannab = smf.ols(formula=formula_health_cannab, data=subset_cann_health)\n",
    "results_health_cannab = model_health_cannab.fit()\n",
    "print (results_health_cannab.summary())"
   ]
  },
  {
   "cell_type": "markdown",
   "metadata": {},
   "source": [
    "The result showed F-statistic = 5.699 and p-value = 0.000149. As p-value is less than the 5% theashold, we are supposed to reject H<sub>0</sub> (that the two variables are not related) and accept H<sub>A</sub> (that they are related).\n",
    "Therefore an association was established, but in a very general way, because the explanatory variable in this case is multilevel. To establish more precisely, which particular cases really demonstrate such an association, a post hoc test (Tuckey HSD) was used."
   ]
  },
  {
   "cell_type": "code",
   "execution_count": 21,
   "metadata": {},
   "outputs": [
    {
     "name": "stdout",
     "output_type": "stream",
     "text": [
      "  Multiple Comparison of Means - Tukey HSD,FWER=0.05  \n",
      "======================================================\n",
      "  group1    group2  meandiff   lower    upper   reject\n",
      "------------------------------------------------------\n",
      "Excellent    Fair   27.3291   -6.3929   61.051  False \n",
      "Excellent    Good    35.829    9.9659  61.6922   True \n",
      "Excellent    Poor   58.6404    7.1356  110.1452  True \n",
      "Excellent Very good  8.9303   -15.2801 33.1407  False \n",
      "   Fair      Good     8.5     -25.3067 42.3066  False \n",
      "   Fair      Poor   31.3114   -24.6058 87.2285  False \n",
      "   Fair   Very good -18.3988  -50.9584 14.1608  False \n",
      "   Good      Poor   22.8114   -28.7489 74.3717  False \n",
      "   Good   Very good -26.8988  -51.2269 -2.5706   True \n",
      "   Poor   Very good -49.7102 -100.4615  1.0412  False \n",
      "------------------------------------------------------\n"
     ]
    }
   ],
   "source": [
    "# Run post test\n",
    "post_test = multi.MultiComparison(subset_cann_health[CANNABIS_USE_QUANT], subset_cann_health[HEALTH_PERCEPTION])\n",
    "result_post_test = post_test.tukeyhsd()\n",
    "print(result_post_test.summary())"
   ]
  },
  {
   "cell_type": "markdown",
   "metadata": {},
   "source": [
    "The test showed three particular categorical values for which significant difference shows up in results:\n",
    "* Excellent and Good;\n",
    "* Excellent and Poor;\n",
    "* Good and Very good."
   ]
  }
 ],
 "metadata": {
  "kernelspec": {
   "display_name": "Python 3",
   "language": "python",
   "name": "python3"
  },
  "language_info": {
   "codemirror_mode": {
    "name": "ipython",
    "version": 3
   },
   "file_extension": ".py",
   "mimetype": "text/x-python",
   "name": "python",
   "nbconvert_exporter": "python",
   "pygments_lexer": "ipython3",
   "version": "3.6.4"
  }
 },
 "nbformat": 4,
 "nbformat_minor": 2
}
