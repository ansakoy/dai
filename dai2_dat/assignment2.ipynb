{
 "cells": [
  {
   "cell_type": "markdown",
   "metadata": {},
   "source": [
    "# Coursera: Data Analysis Tools – Assignment 2\n",
    "For this assignment, the task was to conduct Chi Square tests of independence to find out if categorical variables are related. I chose the following combinations of variables to explore:\n",
    "* Health perception (good / not good) -> Animal phobia (pure / mixed)\n",
    "* Region of origin -> Animal phobia (Y / N)\n",
    "* Region of origin -> Animal phobia (pure / mixed)\n",
    "\n",
    "This assignment is based on some of the materials provided within the Coursera course, but also relies on the lessons from [Python for Data Science](https://pythonfordatascience.org/) website, which seems more reliable in terms of Python application to data analysis (style and conventions in the first place)."
   ]
  },
  {
   "cell_type": "code",
   "execution_count": 1,
   "metadata": {},
   "outputs": [],
   "source": [
    "import pandas as pd\n",
    "import numpy as np\n",
    "import seaborn\n",
    "import matplotlib.pyplot as plt\n",
    "import scipy.stats\n",
    "\n",
    "from global_vars import *\n",
    "from reference import *\n",
    "\n",
    "\n",
    "NESARC = r\"C:\\Users\\USER\\Documents\\Courses\\Coursera\\dai\\datasets\\nesarc\\nesarc_pds.csv\"\n",
    "\n",
    "\n",
    "# Load data\n",
    "data = pd.read_csv(NESARC, low_memory=False)\n",
    "\n",
    "# Convert necessary values to numbers\n",
    "data[ANIMALS_MAP[CODE]] = pd.to_numeric(data[ANIMALS_MAP[CODE]], errors='coerce')"
   ]
  },
  {
   "cell_type": "markdown",
   "metadata": {},
   "source": [
    "Create a distinction between pure and mixed animal phobia."
   ]
  },
  {
   "cell_type": "code",
   "execution_count": 2,
   "metadata": {},
   "outputs": [
    {
     "name": "stdout",
     "output_type": "stream",
     "text": [
      "Frequencies, percentages for pure and mixed animal phobia\n",
      "       Frequencies  Percentages\n",
      "Mixed         6836     0.751787\n",
      "Pure          2257     0.248213\n"
     ]
    }
   ],
   "source": [
    "for phobia in ALL_SPECIFIC_PHOBIAS:\n",
    "    data[phobia[CODE] + '_NEW'] = data[phobia[CODE]].replace([2, 9], 0)\n",
    "sp_new_list = [entry[CODE] + '_NEW' for entry in ALL_SPECIFIC_PHOBIAS]  # creating a list of names for the new columns\n",
    "data[APPUREMIXED] = data.loc[:, sp_new_list].sum(axis=1)\n",
    "condition_for_replace = data[APPUREMIXED] > 1\n",
    "data.loc[condition_for_replace, APPUREMIXED] = 0  # replace values > 1 with 0\n",
    "appuremixed_freq = data[data[ANIMALS_MAP[CODE]] == 1][APPUREMIXED].value_counts(sort=False, dropna=False)\n",
    "appuremixed_percent = data[data[ANIMALS_MAP[CODE]] == 1][APPUREMIXED].value_counts(sort=False, dropna=False, normalize=True)\n",
    "\n",
    "print('Frequencies, percentages for pure and mixed animal phobia')\n",
    "print(pd.concat(dict(Frequencies=appuremixed_freq.rename({1: 'Pure', 0: 'Mixed'}),\n",
    "                     Percentages=appuremixed_percent.rename({1: 'Pure', 0: 'Mixed'})), axis=1))"
   ]
  },
  {
   "cell_type": "markdown",
   "metadata": {},
   "source": [
    "Create subset for only those with animal phobia."
   ]
  },
  {
   "cell_type": "code",
   "execution_count": 3,
   "metadata": {},
   "outputs": [],
   "source": [
    "condition_ap = data[ANIMALS_MAP[CODE]] == 1\n",
    "subset_ap = data[condition_ap].copy()  # Make a subset of those with animal phobia"
   ]
  },
  {
   "cell_type": "markdown",
   "metadata": {},
   "source": [
    "Create binary health perception variable."
   ]
  },
  {
   "cell_type": "code",
   "execution_count": 4,
   "metadata": {},
   "outputs": [
    {
     "data": {
      "image/png": "[encoded data removed]",
      "text/plain": [
       "<Figure size 360x360 with 1 Axes>"
      ]
     },
     "metadata": {
      "needs_background": "light"
     },
     "output_type": "display_data"
    }
   ],
   "source": [
    "def sort_health(row):\n",
    "    '''\n",
    "    Recoding values for perceived health\n",
    "    :param row: row of a dataset\n",
    "    :return: code value (int)\n",
    "    '''\n",
    "    good = [1, 2, 3, 4]\n",
    "    if row[HEALTH_MAP[CODE]] in good:\n",
    "        return 1\n",
    "    else:\n",
    "        return 0\n",
    "    \n",
    "subset_ap['HEALTHBINARY'] = subset_ap.apply(lambda row: sort_health(row), axis=1)\n",
    "\n",
    "subset_ap['HEALTHBINARY'] = subset_ap['HEALTHBINARY'].astype('category')\n",
    "subset_ap['HEALTHBINARY'] = subset_ap['HEALTHBINARY'].cat.rename_categories(['Not good', 'Good'])\n",
    "\n",
    "seaborn.catplot(x='HEALTHBINARY', y=APPUREMIXED, kind='bar', ci=None, data=subset_ap)\n",
    "plt.xlabel('Proportion of Good Perceived Health')\n",
    "plt.ylabel('Type of Animal Phobia')\n",
    "\n",
    "plt.title('Perceived Health -> Type of AP')\n",
    "# plt.xticks(rotation=20)\n",
    "plt.tight_layout()\n",
    "plt.show()"
   ]
  },
  {
   "cell_type": "markdown",
   "metadata": {},
   "source": [
    "Create contigency table for Perceived Health and Pure/Mixed Animal Phobia."
   ]
  },
  {
   "cell_type": "code",
   "execution_count": 5,
   "metadata": {},
   "outputs": [
    {
     "name": "stdout",
     "output_type": "stream",
     "text": [
      "HEALTHBINARY  Not good  Good\n",
      "APPUREMIXED                 \n",
      "0                  565  6271\n",
      "1                  113  2144\n"
     ]
    }
   ],
   "source": [
    "ph_ap_crosstable = pd.crosstab(subset_ap[APPUREMIXED], subset_ap['HEALTHBINARY'])\n",
    "print(ph_ap_crosstable)"
   ]
  },
  {
   "cell_type": "code",
   "execution_count": 6,
   "metadata": {},
   "outputs": [
    {
     "name": "stdout",
     "output_type": "stream",
     "text": [
      "HEALTHBINARY  Not good      Good\n",
      "APPUREMIXED                     \n",
      "0             0.833333  0.745217\n",
      "1             0.166667  0.254783\n"
     ]
    }
   ],
   "source": [
    "# Get column percentages\n",
    "col_sum=ph_ap_crosstable.sum(axis=0)  # column sums\n",
    "col_percent=ph_ap_crosstable / col_sum\n",
    "print(col_percent)"
   ]
  },
  {
   "cell_type": "markdown",
   "metadata": {},
   "source": [
    "Get Chi Square stats.  \n",
    "Question: If a respondent with animal phobia perceives their health as good, is it reasonable to expect that their animal phobia is pure?\n",
    "* H<sub>0</sub>: There is no relationship between perceived health and animal phobia.\n",
    "* H<sub>A</sub>: The two variables are not related."
   ]
  },
  {
   "cell_type": "code",
   "execution_count": 7,
   "metadata": {},
   "outputs": [
    {
     "name": "stdout",
     "output_type": "stream",
     "text": [
      "chi-square value, p-value, expected counts\n",
      "(25.637793619550834, 4.1189268158301394e-07, 1, array([[ 509.71164632, 6326.28835368],\n",
      "       [ 168.28835368, 2088.71164632]]))\n"
     ]
    }
   ],
   "source": [
    "ph_ap_chisquare = scipy.stats.chi2_contingency(ph_ap_crosstable)\n",
    "print ('chi-square value, p-value, expected counts')\n",
    "print (ph_ap_chisquare)"
   ]
  },
  {
   "cell_type": "markdown",
   "metadata": {},
   "source": [
    "Conclusion: retain H<sub>0</sub>. The difference in health perception for the respondents with pure and mixed animal phobia is insignificant, i.e. the two variables are not related.\n",
    "\n",
    "Now for the regions of origin regarding AP. First, on general terms (both, pure and mixed AP)."
   ]
  },
  {
   "cell_type": "code",
   "execution_count": 8,
   "metadata": {},
   "outputs": [
    {
     "data": {
      "image/png": "[encoded data removed]",
      "text/plain": [
       "<Figure size 360x360 with 1 Axes>"
      ]
     },
     "metadata": {
      "needs_background": "light"
     },
     "output_type": "display_data"
    }
   ],
   "source": [
    "data[ORIGIN_MAP[CODE]] = pd.to_numeric(data[ORIGIN_MAP[CODE]], errors='coerce')\n",
    "\n",
    "# Make a subset for the most frequent origins\n",
    "condition_origin = data[ORIGIN_MAP[CODE]].isin(REGIONS)\n",
    "subset_origin = data[condition_origin].copy()\n",
    "\n",
    "# Create a column with region names\n",
    "subset_origin['REGION'] = subset_origin[ORIGIN_MAP[CODE]].map(REGIONS)\n",
    "\n",
    "subset_origin[ANIMALS_MAP[CODE]] = subset_origin[ANIMALS_MAP[CODE]].replace(9, np.nan)\n",
    "subset_origin[ANIMALS_MAP[CODE]] = subset_origin[ANIMALS_MAP[CODE]].replace(2, 0)\n",
    "subset_origin[ANIMALS_MAP[CODE]] = subset_origin[ANIMALS_MAP[CODE]].astype('category')\n",
    "subset_origin[ANIMALS_MAP[CODE]] = pd.to_numeric(subset_origin[ANIMALS_MAP[CODE]], errors='coerce')\n",
    "\n",
    "origins_ap_df = subset_origin[[ANIMALS_MAP[CODE], 'REGION']]\n",
    "\n",
    "# Bivariate chart: Region of Origin -> Experience of Animal Phobia (both mixed and pure)\n",
    "seaborn.catplot(x='REGION', y=ANIMALS_MAP[CODE], kind='bar', ci=None, data=origins_ap_df)\n",
    "plt.xlabel('Regions of Origin')\n",
    "plt.ylabel('Proportion of Animal Phobia')\n",
    "plt.title('Animal Phobia vs. Region of Origin')\n",
    "plt.xticks(rotation=60)\n",
    "plt.show()"
   ]
  },
  {
   "cell_type": "markdown",
   "metadata": {},
   "source": [
    "Create a contigency table for the case."
   ]
  },
  {
   "cell_type": "code",
   "execution_count": 9,
   "metadata": {},
   "outputs": [
    {
     "name": "stdout",
     "output_type": "stream",
     "text": [
      "REGION  Africa  Central Europe  Eastern Europe  Latin America  \\\n",
      "S8Q1A1                                                          \n",
      "0.0       5054            5351             348           5298   \n",
      "1.0       2316            1223              58           1338   \n",
      "\n",
      "REGION  Northern Europe  Southern Europe  Western Europe  [Native Americans]  \n",
      "S8Q1A1                                                                        \n",
      "0.0                 712             1592            7350                 711  \n",
      "1.0                 161              409            1755                 235  \n"
     ]
    }
   ],
   "source": [
    "ro_ap_crosstable = pd.crosstab(origins_ap_df[ANIMALS_MAP[CODE]], origins_ap_df['REGION'])\n",
    "print(ro_ap_crosstable)"
   ]
  },
  {
   "cell_type": "markdown",
   "metadata": {},
   "source": [
    "Get general Chi Square stats to find out if there is any relationship between the two variables.\n",
    "* H<sub>0</sub>: There is no relationship;\n",
    "* H<sub>A</sub>: There is some relationship."
   ]
  },
  {
   "cell_type": "code",
   "execution_count": 10,
   "metadata": {
    "scrolled": true
   },
   "outputs": [
    {
     "name": "stdout",
     "output_type": "stream",
     "text": [
      "chi-square value, p-value, expected counts\n",
      "(504.0635623961649, 1.072413740307958e-104, 7, array([[5741.08460382, 5121.01630739,  316.26599039, 5169.31308425,\n",
      "         680.04977736, 1558.73952405, 7092.61537554,  736.91533721],\n",
      "       [1628.91539618, 1452.98369261,   89.73400961, 1466.68691575,\n",
      "         192.95022264,  442.26047595, 2012.38462446,  209.08466279]]))\n"
     ]
    }
   ],
   "source": [
    "ro_ap_chisquare = scipy.stats.chi2_contingency(ro_ap_crosstable)\n",
    "print ('chi-square value, p-value, expected counts')\n",
    "print (ro_ap_chisquare)"
   ]
  },
  {
   "cell_type": "markdown",
   "metadata": {},
   "source": [
    "P-value is very small, which shows that there is a significant difference between some of the results and therefore supports H<sub>A</sub>. The next goal is to establish where this difference is located by conducting post hoc tests.  \n",
    "Create a new dataframe with all relevant categories represented as binary (0/1) columns."
   ]
  },
  {
   "cell_type": "code",
   "execution_count": 11,
   "metadata": {},
   "outputs": [
    {
     "name": "stdout",
     "output_type": "stream",
     "text": [
      "   Africa  Central Europe  Eastern Europe  Latin America  Northern Europe  \\\n",
      "0       0               0               0              1                0   \n",
      "1       0               0               0              1                0   \n",
      "2       0               0               0              1                0   \n",
      "3       0               0               0              1                0   \n",
      "5       1               0               0              0                0   \n",
      "\n",
      "   Southern Europe  Western Europe  [Native Americans]  \n",
      "0                0               0                   0  \n",
      "1                0               0                   0  \n",
      "2                0               0                   0  \n",
      "3                0               0                   0  \n",
      "5                0               0                   0  \n"
     ]
    }
   ],
   "source": [
    "dummies = pd.get_dummies(origins_ap_df['REGION'])  # type: dataframe\n",
    "print(dummies.head())"
   ]
  },
  {
   "cell_type": "markdown",
   "metadata": {},
   "source": [
    "For each such column run chi2 test with adjusted Bonferroni p-value. We have 8 regions of origin, ergo 8 hypotheses to test, so based on α = .05, the adjusted p-value will be `.05 / 8 = .00625`."
   ]
  },
  {
   "cell_type": "code",
   "execution_count": 12,
   "metadata": {},
   "outputs": [
    {
     "name": "stdout",
     "output_type": "stream",
     "text": [
      "S8Q1A1    0.0   1.0\n",
      "Africa             \n",
      "0       21362  5179\n",
      "1        5054  2316 \n",
      "\n",
      "Chi2: 474.6641680909471\n",
      "P-value: 3.0961513069076814e-105\n",
      "Degrees of freedom: 1\n",
      "Expected: [[20674.91539618  5866.08460382]\n",
      " [ 5741.08460382  1628.91539618]]\n",
      "S8Q1A1            0.0   1.0\n",
      "Central Europe             \n",
      "0               21065  6272\n",
      "1                5351  1223 \n",
      "\n",
      "Chi2: 57.71732620480639\n",
      "P-value: 3.026253902723936e-14\n",
      "Degrees of freedom: 1\n",
      "Expected: [[21294.98369261  6042.01630739]\n",
      " [ 5121.01630739  1452.98369261]]\n",
      "S8Q1A1            0.0   1.0\n",
      "Eastern Europe             \n",
      "0               26068  7437\n",
      "1                 348    58 \n",
      "\n",
      "Chi2: 14.125470448000387\n",
      "P-value: 0.00017101245656933465\n",
      "Degrees of freedom: 1\n",
      "Expected: [[26099.73400961  7405.26599039]\n",
      " [  316.26599039    89.73400961]]\n",
      "S8Q1A1           0.0   1.0\n",
      "Latin America             \n",
      "0              21118  6157\n",
      "1               5298  1338 \n",
      "\n",
      "Chi2: 17.881311030598127\n",
      "P-value: 2.3511872578095437e-05\n",
      "Degrees of freedom: 1\n",
      "Expected: [[21246.68691575  6028.31308425]\n",
      " [ 5169.31308425  1466.68691575]]\n",
      "S8Q1A1             0.0   1.0\n",
      "Northern Europe             \n",
      "0                25704  7334\n",
      "1                  712   161 \n",
      "\n",
      "Chi2: 6.754645379655325\n",
      "P-value: 0.009350392788642454\n",
      "Degrees of freedom: 1\n",
      "Expected: [[25735.95022264  7302.04977736]\n",
      " [  680.04977736   192.95022264]]\n",
      "S8Q1A1             0.0   1.0\n",
      "Southern Europe             \n",
      "0                24824  7086\n",
      "1                 1592   409 \n",
      "\n",
      "Chi2: 3.3106221009060857\n",
      "P-value: 0.06883342985162089\n",
      "Degrees of freedom: 1\n",
      "Expected: [[24857.26047595  7052.73952405]\n",
      " [ 1558.73952405   442.26047595]]\n",
      "S8Q1A1            0.0   1.0\n",
      "Western Europe             \n",
      "0               19066  5740\n",
      "1                7350  1755 \n",
      "\n",
      "Chi2: 57.54699223833999\n",
      "P-value: 3.300001574945148e-14\n",
      "Degrees of freedom: 1\n",
      "Expected: [[19323.38462446  5482.61537554]\n",
      " [ 7092.61537554  2012.38462446]]\n",
      "S8Q1A1                0.0   1.0\n",
      "[Native Americans]             \n",
      "0                   25705  7260\n",
      "1                     711   235 \n",
      "\n",
      "Chi2: 4.079722591634914\n",
      "P-value: 0.04340078368864629\n",
      "Degrees of freedom: 1\n",
      "Expected: [[25679.08466279  7285.91533721]\n",
      " [  736.91533721   209.08466279]]\n"
     ]
    }
   ],
   "source": [
    "for column in dummies:\n",
    "    crosstab = pd.crosstab(dummies[column], origins_ap_df[ANIMALS_MAP[CODE]])\n",
    "    print(crosstab, '\\n')\n",
    "    chi2, p_value, dof, expected = scipy.stats.chi2_contingency(crosstab)\n",
    "    print('Chi2: {}\\nP-value: {}\\nDegrees of freedom: {}\\nExpected: {}'.format(chi2, p_value, dof, expected))"
   ]
  },
  {
   "cell_type": "markdown",
   "metadata": {},
   "source": [
    "The post hoc tests show significant difference for the following regions of origin:\n",
    "* Africa (p-value = 3.0961513069076814e-105)\n",
    "* Central Europe (p-value = 3.026253902723936e-14)\n",
    "* Eastern  Europe (p-value = 0.00017101245656933465)\n",
    "* Latin America (p-value = 2.3511872578095437e-05)\n",
    "* Western Europe (p-value = 3.300001574945148e-14)\n",
    "\n",
    "Interestingly, the difference for the \\[Native Americans\\] (rather remarkable in the chart above) appears non-significant (p-value = .04 vs. .006 threashold).\n",
    "\n",
    "Last step is establish if there is any relationship between pure and mixed AP disreibution and the region of origin."
   ]
  },
  {
   "cell_type": "code",
   "execution_count": 13,
   "metadata": {
    "scrolled": false
   },
   "outputs": [
    {
     "data": {
      "image/png": "[encoded data removed]",
      "text/plain": [
       "<Figure size 360x360 with 1 Axes>"
      ]
     },
     "metadata": {
      "needs_background": "light"
     },
     "output_type": "display_data"
    }
   ],
   "source": [
    "subset_origin_ap = subset_origin[subset_origin[ANIMALS_MAP[CODE]] == 1].copy()\n",
    "subset_origin_ap[APPUREMIXED] = pd.to_numeric(subset_origin[APPUREMIXED], errors='coerce')\n",
    "origins_appm_df = subset_origin_ap[[APPUREMIXED, 'REGION']].dropna()\n",
    "\n",
    "# Bivariate chart: Region of Origin -> Type of Animal Phobia (mixed or pure)\n",
    "seaborn.catplot(x='REGION', y=APPUREMIXED, kind='bar', ci=None, data=origins_appm_df)\n",
    "plt.xlabel('Regions of Origin')\n",
    "plt.ylabel('Proportion of Pure Animal Phobia')\n",
    "plt.title('Pure / Mixed Animal Phobia vs. Region of Origin')\n",
    "plt.xticks(rotation=60)\n",
    "plt.show()"
   ]
  },
  {
   "cell_type": "code",
   "execution_count": 14,
   "metadata": {},
   "outputs": [
    {
     "name": "stdout",
     "output_type": "stream",
     "text": [
      "Chi2: 33.19731220252532\n",
      "P-value: 2.432691983627575e-05\n",
      "Degrees of freedom: 7\n",
      "Expected: [[1753.60907272  926.02068045   43.91594396 1013.09539693  121.90460307\n",
      "   309.68312208 1328.83589059  177.93529019]\n",
      " [ 562.39092728  296.97931955   14.08405604  324.90460307   39.09539693\n",
      "    99.31687792  426.16410941   57.06470981]]\n"
     ]
    }
   ],
   "source": [
    "# Make crosstab\n",
    "ro_appm_crosstable = pd.crosstab(origins_appm_df[APPUREMIXED], origins_appm_df['REGION'])\n",
    "ro_appm_chi2 = scipy.stats.chi2_contingency(ro_appm_crosstable)\n",
    "chi2, p_value, dof, expected = scipy.stats.chi2_contingency(ro_appm_crosstable)\n",
    "print('Chi2: {}\\nP-value: {}\\nDegrees of freedom: {}\\nExpected: {}'.format(chi2, p_value, dof, expected))"
   ]
  },
  {
   "cell_type": "markdown",
   "metadata": {},
   "source": [
    "The Chi Square test supports H<sub>A</sub> meaning there is some relation between region of origin and the type of AP (mixed or pure). Which means post hoc tests are required to find out where exactly the difference is significant. Like in the previous case, the adjusted p-value will be .00625, as the number of categories is the same (8)."
   ]
  },
  {
   "cell_type": "code",
   "execution_count": 15,
   "metadata": {},
   "outputs": [
    {
     "name": "stdout",
     "output_type": "stream",
     "text": [
      "APPUREMIXED     0     1\n",
      "Africa                 \n",
      "0            3854  1325\n",
      "1            1821   495 \n",
      "\n",
      "Chi2: 15.206442516241848\n",
      "P-value: 9.637406852077226e-05\n",
      "Degrees of freedom: 1\n",
      "Expected: [[3921.39092728 1257.60907272]\n",
      " [1753.60907272  562.39092728]]\n",
      "APPUREMIXED        0     1\n",
      "Central Europe            \n",
      "0               4775  1497\n",
      "1                900   323 \n",
      "\n",
      "Chi2: 3.461223553724308\n",
      "P-value: 0.06282381049853623\n",
      "Degrees of freedom: 1\n",
      "Expected: [[4748.97931955 1523.02068045]\n",
      " [ 926.02068045  296.97931955]]\n",
      "APPUREMIXED        0     1\n",
      "Eastern Europe            \n",
      "0               5632  1805\n",
      "1                 43    15 \n",
      "\n",
      "Chi2: 0.016350142141203318\n",
      "P-value: 0.8982536931455403\n",
      "Degrees of freedom: 1\n",
      "Expected: [[5631.08405604 1805.91594396]\n",
      " [  43.91594396   14.08405604]]\n",
      "APPUREMIXED       0     1\n",
      "Latin America            \n",
      "0              4657  1500\n",
      "1              1018   320 \n",
      "\n",
      "Chi2: 0.0959988310383432\n",
      "P-value: 0.7566850796080407\n",
      "Degrees of freedom: 1\n",
      "Expected: [[4661.90460307 1495.09539693]\n",
      " [1013.09539693  324.90460307]]\n",
      "APPUREMIXED         0     1\n",
      "Northern Europe            \n",
      "0                5557  1777\n",
      "1                 118    43 \n",
      "\n",
      "Chi2: 0.40016937462157587\n",
      "P-value: 0.5270017977348911\n",
      "Degrees of freedom: 1\n",
      "Expected: [[5553.09539693 1780.90460307]\n",
      " [ 121.90460307   39.09539693]]\n",
      "APPUREMIXED         0     1\n",
      "Southern Europe            \n",
      "0                5377  1709\n",
      "1                 298   111 \n",
      "\n",
      "Chi2: 1.7590546553127435\n",
      "P-value: 0.18474247317607748\n",
      "Degrees of freedom: 1\n",
      "Expected: [[5365.31687792 1720.68312208]\n",
      " [ 309.68312208   99.31687792]]\n",
      "APPUREMIXED        0     1\n",
      "Western Europe            \n",
      "0               4396  1344\n",
      "1               1279   476 \n",
      "\n",
      "Chi2: 9.849509177036003\n",
      "P-value: 0.0016987707787000585\n",
      "Degrees of freedom: 1\n",
      "Expected: [[4346.16410941 1393.83589059]\n",
      " [1328.83589059  426.16410941]]\n",
      "APPUREMIXED            0     1\n",
      "[Native Americans]            \n",
      "0                   5477  1783\n",
      "1                    198    37 \n",
      "\n",
      "Chi2: 9.145764114397611\n",
      "P-value: 0.002492945098239937\n",
      "Degrees of freedom: 1\n",
      "Expected: [[5497.06470981 1762.93529019]\n",
      " [ 177.93529019   57.06470981]]\n"
     ]
    }
   ],
   "source": [
    "dummies_appm = pd.get_dummies(origins_appm_df['REGION'])\n",
    "for column in dummies_appm:\n",
    "    crosstab = pd.crosstab(dummies_appm[column], origins_appm_df[APPUREMIXED])\n",
    "    print(crosstab, '\\n')\n",
    "    chi2, p_value, dof, expected = scipy.stats.chi2_contingency(crosstab)\n",
    "    print('Chi2: {}\\nP-value: {}\\nDegrees of freedom: {}\\nExpected: {}'.format(chi2, p_value, dof, expected))"
   ]
  },
  {
   "cell_type": "markdown",
   "metadata": {},
   "source": [
    "The post hoc tests show significant difference in results distribution for the following three cases:\n",
    "* Africa (p-value = 9.637406852077226e-05)\n",
    "* Western Europe (p-value = 0.0016987707787000585)\n",
    "* \\[Native Americans\\] (p-value = 0.002492945098239937)"
   ]
  },
  {
   "cell_type": "code",
   "execution_count": null,
   "metadata": {},
   "outputs": [],
   "source": []
  }
 ],
 "metadata": {
  "kernelspec": {
   "display_name": "Python 3",
   "language": "python",
   "name": "python3"
  },
  "language_info": {
   "codemirror_mode": {
    "name": "ipython",
    "version": 3
   },
   "file_extension": ".py",
   "mimetype": "text/x-python",
   "name": "python",
   "nbconvert_exporter": "python",
   "pygments_lexer": "ipython3",
   "version": "3.6.4"
  }
 },
 "nbformat": 4,
 "nbformat_minor": 2
}
