{
 "cells": [
  {
   "cell_type": "markdown",
   "metadata": {},
   "source": [
    "Intro\n",
    "\n",
    "Planned topics to cover:\n",
    "* Health perception (good / not good) -> Animal phobia (pure / mixed)\n",
    "* Region of origin -> Animal phobia (Y / N)\n",
    "* Region of origin -> Animal phobia (pure / mixed)"
   ]
  },
  {
   "cell_type": "code",
   "execution_count": 1,
   "metadata": {},
   "outputs": [],
   "source": [
    "import pandas as pd\n",
    "import numpy as np\n",
    "import seaborn\n",
    "import matplotlib.pyplot as plt\n",
    "import scipy.stats\n",
    "\n",
    "from global_vars import *\n",
    "from reference import *\n",
    "\n",
    "\n",
    "NESARC = r\"C:\\Users\\USER\\Documents\\Courses\\Coursera\\dai\\datasets\\nesarc\\nesarc_pds.csv\"\n",
    "\n",
    "\n",
    "# Load data\n",
    "data = pd.read_csv(NESARC, low_memory=False)\n",
    "\n",
    "# Convert necessary values to numbers\n",
    "data[ANIMALS_MAP[CODE]] = pd.to_numeric(data[ANIMALS_MAP[CODE]], errors='coerce')"
   ]
  },
  {
   "cell_type": "markdown",
   "metadata": {},
   "source": [
    "Create a distinction between pure and mixed animal phobia."
   ]
  },
  {
   "cell_type": "code",
   "execution_count": 2,
   "metadata": {},
   "outputs": [
    {
     "name": "stdout",
     "output_type": "stream",
     "text": [
      "Frequencies, percentages for pure and mixed animal phobia\n",
      "       Frequencies  Percentages\n",
      "Mixed         6836     0.751787\n",
      "Pure          2257     0.248213\n"
     ]
    }
   ],
   "source": [
    "for phobia in ALL_SPECIFIC_PHOBIAS:\n",
    "    data[phobia[CODE] + '_NEW'] = data[phobia[CODE]].replace([2, 9], 0)\n",
    "sp_new_list = [entry[CODE] + '_NEW' for entry in ALL_SPECIFIC_PHOBIAS]  # creating a list of names for the new columns\n",
    "data[APPUREMIXED] = data.loc[:, sp_new_list].sum(axis=1)\n",
    "condition_for_replace = data[APPUREMIXED] > 1\n",
    "data.loc[condition_for_replace, APPUREMIXED] = 0  # replace values > 1 with 0\n",
    "appuremixed_freq = data[data[ANIMALS_MAP[CODE]] == 1][APPUREMIXED].value_counts(sort=False, dropna=False)\n",
    "appuremixed_percent = data[data[ANIMALS_MAP[CODE]] == 1][APPUREMIXED].value_counts(sort=False, dropna=False, normalize=True)\n",
    "\n",
    "print('Frequencies, percentages for pure and mixed animal phobia')\n",
    "print(pd.concat(dict(Frequencies=appuremixed_freq.rename({1: 'Pure', 0: 'Mixed'}),\n",
    "                     Percentages=appuremixed_percent.rename({1: 'Pure', 0: 'Mixed'})), axis=1))"
   ]
  },
  {
   "cell_type": "markdown",
   "metadata": {},
   "source": [
    "Create subsed for only those with animal phobia."
   ]
  },
  {
   "cell_type": "code",
   "execution_count": 3,
   "metadata": {},
   "outputs": [],
   "source": [
    "condition_ap = data[ANIMALS_MAP[CODE]] == 1\n",
    "subset_ap = data[condition_ap].copy()  # Make a subset of those with animal phobia"
   ]
  },
  {
   "cell_type": "markdown",
   "metadata": {},
   "source": [
    "Create binary health perception variable"
   ]
  },
  {
   "cell_type": "code",
   "execution_count": 4,
   "metadata": {},
   "outputs": [
    {
     "data": {
      "image/png": "[encoded data removed]",
      "text/plain": [
       "<Figure size 360x360 with 1 Axes>"
      ]
     },
     "metadata": {
      "needs_background": "light"
     },
     "output_type": "display_data"
    }
   ],
   "source": [
    "def sort_health(row):\n",
    "    '''\n",
    "    Recoding values for perceived health\n",
    "    :param row: row of a dataset\n",
    "    :return: code value (int)\n",
    "    '''\n",
    "    good = [1, 2, 3, 4]\n",
    "    if row[HEALTH_MAP[CODE]] in good:\n",
    "        return 1\n",
    "    else:\n",
    "        return 0\n",
    "    \n",
    "subset_ap['HEALTHBINARY'] = subset_ap.apply(lambda row: sort_health(row), axis=1)\n",
    "\n",
    "subset_ap['HEALTHBINARY'] = subset_ap['HEALTHBINARY'].astype('category')\n",
    "subset_ap['HEALTHBINARY'] = subset_ap['HEALTHBINARY'].cat.rename_categories(['Not good', 'Good'])\n",
    "\n",
    "seaborn.catplot(x='HEALTHBINARY', y=APPUREMIXED, kind='bar', ci=None, data=subset_ap)\n",
    "plt.xlabel('Proportion of Good Perceived Health')\n",
    "plt.ylabel('Type of Animal Phobia')\n",
    "\n",
    "plt.title('Perceived Health -> Type of AP')\n",
    "# plt.xticks(rotation=20)\n",
    "plt.tight_layout()\n",
    "plt.show()"
   ]
  },
  {
   "cell_type": "markdown",
   "metadata": {},
   "source": [
    "Create contigency table for Perceived Health and Pure/Mixed Animal Phobia."
   ]
  },
  {
   "cell_type": "code",
   "execution_count": 5,
   "metadata": {},
   "outputs": [
    {
     "name": "stdout",
     "output_type": "stream",
     "text": [
      "HEALTHBINARY  Not good  Good\n",
      "APPUREMIXED                 \n",
      "0                  565  6271\n",
      "1                  113  2144\n"
     ]
    }
   ],
   "source": [
    "ph_ap_crosstable = pd.crosstab(subset_ap[APPUREMIXED], subset_ap['HEALTHBINARY'])\n",
    "print(ph_ap_crosstable)"
   ]
  },
  {
   "cell_type": "code",
   "execution_count": 6,
   "metadata": {},
   "outputs": [
    {
     "name": "stdout",
     "output_type": "stream",
     "text": [
      "HEALTHBINARY  Not good      Good\n",
      "APPUREMIXED                     \n",
      "0             0.833333  0.745217\n",
      "1             0.166667  0.254783\n"
     ]
    }
   ],
   "source": [
    "# Get column percentages\n",
    "col_sum=ph_ap_crosstable.sum(axis=0)  # column sums\n",
    "col_percent=ph_ap_crosstable / col_sum\n",
    "print(col_percent)"
   ]
  },
  {
   "cell_type": "markdown",
   "metadata": {},
   "source": [
    "Get Chi Square stats.  \n",
    "Question: If a respondent with animal phobia perceives their health as good, is it reasonable to expect that their animal phobia is pure?\n",
    "* H<sub>0</sub>: There is no relationship between perceived health and animal phobia.\n",
    "* H<sub>A</sub>: The two variables are not related."
   ]
  },
  {
   "cell_type": "code",
   "execution_count": 8,
   "metadata": {},
   "outputs": [
    {
     "name": "stdout",
     "output_type": "stream",
     "text": [
      "chi-square value, p-value, expected counts\n",
      "(25.637793619550834, 4.1189268158301394e-07, 1, array([[ 509.71164632, 6326.28835368],\n",
      "       [ 168.28835368, 2088.71164632]]))\n"
     ]
    }
   ],
   "source": [
    "ph_ap_chisquare = scipy.stats.chi2_contingency(ph_ap_crosstable)\n",
    "print ('chi-square value, p-value, expected counts')\n",
    "print (ph_ap_chisquare)"
   ]
  },
  {
   "cell_type": "markdown",
   "metadata": {},
   "source": [
    "Conclusion retain H<sub>0</sub>: the difference in health perception for the respondents with pure and mixed animal phobia is not significant, i.e. the two variables are not related.\n",
    "\n",
    "Now for the regions of origin regarding AP. First, on general terms (both, pure and mixed AP)."
   ]
  },
  {
   "cell_type": "code",
   "execution_count": 16,
   "metadata": {},
   "outputs": [
    {
     "data": {
      "image/png": "[encoded data removed]",
      "text/plain": [
       "<Figure size 360x360 with 1 Axes>"
      ]
     },
     "metadata": {
      "needs_background": "light"
     },
     "output_type": "display_data"
    }
   ],
   "source": [
    "data[ORIGIN_MAP[CODE]] = pd.to_numeric(data[ORIGIN_MAP[CODE]], errors='coerce')\n",
    "\n",
    "# Make a subset for the most frequent origins\n",
    "condition_origin = data[ORIGIN_MAP[CODE]].isin(REGIONS)\n",
    "subset_origin = data[condition_origin].copy()\n",
    "\n",
    "# Create a column with region names\n",
    "subset_origin['REGION'] = subset_origin[ORIGIN_MAP[CODE]].map(REGIONS)\n",
    "\n",
    "subset_origin[ANIMALS_MAP[CODE]] = subset_origin[ANIMALS_MAP[CODE]].replace(9, np.nan)\n",
    "subset_origin[ANIMALS_MAP[CODE]] = subset_origin[ANIMALS_MAP[CODE]].replace(2, 0)\n",
    "subset_origin[ANIMALS_MAP[CODE]] = subset_origin[ANIMALS_MAP[CODE]].astype('category')\n",
    "subset_origin[ANIMALS_MAP[CODE]] = pd.to_numeric(subset_origin[ANIMALS_MAP[CODE]], errors='coerce')\n",
    "\n",
    "# Bivariate chart: Region of Origin -> Experience of Animal Phobia (both mixed and pure)\n",
    "seaborn.catplot(x='REGION', y=ANIMALS_MAP[CODE], kind='bar', ci=None, data=subset_origin)\n",
    "plt.xlabel('Regions of Origin')\n",
    "plt.ylabel('Proportion of Animal Phobia')\n",
    "plt.title('Animal Phobia vs. Region of Origin')\n",
    "plt.xticks(rotation=60)\n",
    "plt.show()"
   ]
  },
  {
   "cell_type": "markdown",
   "metadata": {},
   "source": [
    "Create a contigency table for the case."
   ]
  },
  {
   "cell_type": "code",
   "execution_count": 17,
   "metadata": {},
   "outputs": [
    {
     "name": "stdout",
     "output_type": "stream",
     "text": [
      "REGION  Africa  Central Europe  Eastern Europe  Latin America  \\\n",
      "S8Q1A1                                                          \n",
      "0.0       5054            5351             348           5298   \n",
      "1.0       2316            1223              58           1338   \n",
      "\n",
      "REGION  Northern Europe  Southern Europe  Western Europe  [Native Americans]  \n",
      "S8Q1A1                                                                        \n",
      "0.0                 712             1592            7350                 711  \n",
      "1.0                 161              409            1755                 235  \n"
     ]
    }
   ],
   "source": [
    "ro_ap_crosstable = pd.crosstab(subset_origin[ANIMALS_MAP[CODE]], subset_origin['REGION'])\n",
    "print(ro_ap_crosstable)"
   ]
  },
  {
   "cell_type": "markdown",
   "metadata": {},
   "source": [
    "Get general Chi Square stats."
   ]
  },
  {
   "cell_type": "code",
   "execution_count": 18,
   "metadata": {},
   "outputs": [
    {
     "name": "stdout",
     "output_type": "stream",
     "text": [
      "chi-square value, p-value, expected counts\n",
      "(504.0635623961649, 1.072413740307958e-104, 7, array([[5741.08460382, 5121.01630739,  316.26599039, 5169.31308425,\n",
      "         680.04977736, 1558.73952405, 7092.61537554,  736.91533721],\n",
      "       [1628.91539618, 1452.98369261,   89.73400961, 1466.68691575,\n",
      "         192.95022264,  442.26047595, 2012.38462446,  209.08466279]]))\n"
     ]
    }
   ],
   "source": [
    "ro_ap_chisquare = scipy.stats.chi2_contingency(ro_ap_crosstable)\n",
    "print ('chi-square value, p-value, expected counts')\n",
    "print (ro_ap_chisquare)"
   ]
  },
  {
   "cell_type": "markdown",
   "metadata": {},
   "source": [
    "P-value is very small, which shows that there is a significant difference between some of the results. The next goal, therefore, is to establish where this difference is located.\n",
    "\n",
    "After the detailed relationship between "
   ]
  },
  {
   "cell_type": "code",
   "execution_count": null,
   "metadata": {},
   "outputs": [],
   "source": []
  }
 ],
 "metadata": {
  "kernelspec": {
   "display_name": "Python 3",
   "language": "python",
   "name": "python3"
  },
  "language_info": {
   "codemirror_mode": {
    "name": "ipython",
    "version": 3
   },
   "file_extension": ".py",
   "mimetype": "text/x-python",
   "name": "python",
   "nbconvert_exporter": "python",
   "pygments_lexer": "ipython3",
   "version": "3.6.4"
  }
 },
 "nbformat": 4,
 "nbformat_minor": 2
}
