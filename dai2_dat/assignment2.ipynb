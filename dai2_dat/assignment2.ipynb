{
 "cells": [
  {
   "cell_type": "markdown",
   "metadata": {},
   "source": [
    "Intro\n",
    "\n",
    "Planned topics to cover:\n",
    "* Health perception (good / not good) -> Animal phobia (pure / mixed)\n",
    "* Region of origin -> Animal phobia (Y / N)\n",
    "* Region of origin -> Animal phobia (pure / mixed)"
   ]
  },
  {
   "cell_type": "code",
   "execution_count": 4,
   "metadata": {},
   "outputs": [],
   "source": [
    "import pandas as pd\n",
    "import numpy as np\n",
    "import seaborn\n",
    "import matplotlib.pyplot as plt\n",
    "import scipy.stats\n",
    "\n",
    "from global_vars import *\n",
    "from reference import *\n",
    "\n",
    "\n",
    "NESARC = r\"C:\\Users\\USER\\Documents\\Courses\\Coursera\\dai\\datasets\\nesarc\\nesarc_pds.csv\"\n",
    "\n",
    "\n",
    "# Load data\n",
    "data = pd.read_csv(NESARC, low_memory=False)\n",
    "\n",
    "# Convert necessary values to numbers\n",
    "data[ANIMALS_MAP[CODE]] = pd.to_numeric(data[ANIMALS_MAP[CODE]], errors='coerce')"
   ]
  },
  {
   "cell_type": "markdown",
   "metadata": {},
   "source": [
    "Create a distinction between pure and mixed animal phobia."
   ]
  },
  {
   "cell_type": "code",
   "execution_count": 5,
   "metadata": {},
   "outputs": [
    {
     "name": "stdout",
     "output_type": "stream",
     "text": [
      "Frequencies, percentages for pure and mixed animal phobia\n",
      "       Frequencies  Percentages\n",
      "Mixed         6836     0.751787\n",
      "Pure          2257     0.248213\n"
     ]
    }
   ],
   "source": [
    "for phobia in ALL_SPECIFIC_PHOBIAS:\n",
    "    data[phobia[CODE] + '_NEW'] = data[phobia[CODE]].replace([2, 9], 0)\n",
    "sp_new_list = [entry[CODE] + '_NEW' for entry in ALL_SPECIFIC_PHOBIAS]  # creating a list of names for the new columns\n",
    "data[APPUREMIXED] = data.loc[:, sp_new_list].sum(axis=1)\n",
    "condition_for_replace = data[APPUREMIXED] > 1\n",
    "data.loc[condition_for_replace, APPUREMIXED] = 0  # replace values > 1 with 0\n",
    "appuremixed_freq = data[data[ANIMALS_MAP[CODE]] == 1][APPUREMIXED].value_counts(sort=False, dropna=False)\n",
    "appuremixed_percent = data[data[ANIMALS_MAP[CODE]] == 1][APPUREMIXED].value_counts(sort=False, dropna=False, normalize=True)\n",
    "\n",
    "print('Frequencies, percentages for pure and mixed animal phobia')\n",
    "print(pd.concat(dict(Frequencies=appuremixed_freq.rename({1: 'Pure', 0: 'Mixed'}),\n",
    "                     Percentages=appuremixed_percent.rename({1: 'Pure', 0: 'Mixed'})), axis=1))"
   ]
  },
  {
   "cell_type": "markdown",
   "metadata": {},
   "source": [
    "Create subsed for only those with animal phobia."
   ]
  },
  {
   "cell_type": "code",
   "execution_count": 13,
   "metadata": {},
   "outputs": [],
   "source": [
    "condition_ap = data[ANIMALS_MAP[CODE]] == 1\n",
    "subset_ap = data[condition_ap].copy()  # Make a subset of those with animal phobia"
   ]
  },
  {
   "cell_type": "markdown",
   "metadata": {},
   "source": [
    "Create binary health perception variable"
   ]
  },
  {
   "cell_type": "code",
   "execution_count": 14,
   "metadata": {},
   "outputs": [
    {
     "data": {
      "image/png": "[encoded data removed]",
      "text/plain": [
       "<Figure size 360x360 with 1 Axes>"
      ]
     },
     "metadata": {
      "needs_background": "light"
     },
     "output_type": "display_data"
    }
   ],
   "source": [
    "def sort_health(row):\n",
    "    '''\n",
    "    Recoding values for perceived health\n",
    "    :param row: row of a dataset\n",
    "    :return: code value (int)\n",
    "    '''\n",
    "    good = [1, 2, 3, 4]\n",
    "    if row[HEALTH_MAP[CODE]] in good:\n",
    "        return 1\n",
    "    else:\n",
    "        return 0\n",
    "    \n",
    "subset_ap['HEALTHBINARY'] = subset_ap.apply(lambda row: sort_health(row), axis=1)\n",
    "\n",
    "subset_ap['HEALTHBINARY'] = subset_ap['HEALTHBINARY'].astype('category')\n",
    "subset_ap['HEALTHBINARY'] = subset_ap['HEALTHBINARY'].cat.rename_categories(['Not good', 'Good'])\n",
    "\n",
    "seaborn.catplot(x='HEALTHBINARY', y=APPUREMIXED, kind='bar', ci=None, data=subset_ap)\n",
    "plt.xlabel('Proportion of Good Perceived Health')\n",
    "plt.ylabel('Type of Animal Phobia')\n",
    "\n",
    "plt.title('Perceived Health -> Type of AP')\n",
    "# plt.xticks(rotation=20)\n",
    "plt.tight_layout()\n",
    "plt.show()"
   ]
  },
  {
   "cell_type": "markdown",
   "metadata": {},
   "source": [
    "NEXT: Use Chi Square Test to establish if the difference in health perception between pure and mixed AP groups is significant.\n",
    "\n",
    "Sort origins by regions and see if there is significant difference in pure AP rate among regions."
   ]
  }
 ],
 "metadata": {
  "kernelspec": {
   "display_name": "Python 3",
   "language": "python",
   "name": "python3"
  },
  "language_info": {
   "codemirror_mode": {
    "name": "ipython",
    "version": 3
   },
   "file_extension": ".py",
   "mimetype": "text/x-python",
   "name": "python",
   "nbconvert_exporter": "python",
   "pygments_lexer": "ipython3",
   "version": "3.6.4"
  }
 },
 "nbformat": 4,
 "nbformat_minor": 2
}
